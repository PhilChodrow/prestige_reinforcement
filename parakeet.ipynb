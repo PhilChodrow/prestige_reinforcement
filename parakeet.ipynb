{
 "cells": [
  {
   "cell_type": "markdown",
   "metadata": {},
   "source": [
    "# Case Study: Math PhD Exchange\n",
    "\n",
    "This data set is derived from the article [\"Eigenvector-Based Centrality Measures for Temporal Networks\n",
    "\"](https://arxiv.org/abs/1507.01266) by Taylor, Myers, Clauset, Porter, and Mucha, which was in turn scraped from the [Mathematics Geneology Project](https://www.genealogy.math.ndsu.nodak.edu/). There is an entry $i\\rightarrow j$ in year $t$ if a mathematician graduated in year $t$ from university $j$ and thereafter supervised at least one PhD thesis at university $i$. This is a proxy for hiring data: we are assuming, essentially, that this mathematician was hired (\"endorsed\") by $i$ in or around year $t$. \n",
    "\n",
    "## Data Limitations\n",
    "\n",
    "There are several limitations in these data implied by the collection process. \n",
    "\n",
    "1. If a mathematician is hired in year $t$, then they are unlikely to show up in the data set until roughly year $t+\\tau$, where $\\tau\\approx 5 \\pm 2$ is the approximate amount of time required to complete a PhD thesis. \n",
    "2. If a mathematician is hired sequentially by departments $i$ and $i'$, both $i$ and $i'$ will be taken to have endorsed this mathematician *in the same year* $t$, even though the actual time in which $i'$ hired the mathematician may be well after $i$. This raises the potential for causality violations. \n",
    "\n",
    "To address limitation 1., we omit the final six years of the data set. We'll study the years 1960-2000. "
   ]
  },
  {
   "cell_type": "code",
   "execution_count": 28,
   "metadata": {},
   "outputs": [],
   "source": [
    "import numpy as np\n",
    "\n",
    "from py.utils import *\n",
    "from py.prep_data import *\n",
    "from py.model import model\n",
    "from py.scores import homebrew_SpringRank_score, fiedler_vector_score, powered_degree_score, katz_score, PageRank_score\n",
    "# visualization\n",
    "\n",
    "from matplotlib import pyplot as plt\n",
    "import matplotlib\n",
    "matplotlib.rcParams['font.sans-serif'] = \"Arial Unicode MS\"\n",
    "\n",
    "cset = ['#4477AA', '#EE6677', '#228833', '#CCBB44', '#66CCEE', '#AA3377']\n",
    "cset_muted = ['#CC6677', '#332288', '#DDCC77', '#117733', '#88CCEE', '#882255', '#44AA99', '#999933', '#AA4499', '#DDDDDD','#000000']\n",
    "\n",
    "from matplotlib.gridspec import GridSpec\n"
   ]
  },
  {
   "cell_type": "markdown",
   "metadata": {},
   "source": [
    "# Data Preparation\n",
    "\n",
    "First we read the data. In order to ensure connectedness of the endorsement matrix across many time periods, we restrict the data to only the top 100 schools by placement. "
   ]
  },
  {
   "cell_type": "code",
   "execution_count": 71,
   "metadata": {},
   "outputs": [],
   "source": [
    "t_start = 0\n",
    "group = 'G1'\n",
    "\n",
    "T, timesteps, labels = prep_parakeets('data/parakeet/', group = group)\n",
    "T, timesteps, A0, n_obs = initial_condition(T, timesteps, t_start = t_start)\n",
    "\n",
    "n = len(labels)"
   ]
  },
  {
   "cell_type": "code",
   "execution_count": 72,
   "metadata": {},
   "outputs": [
    {
     "data": {
      "text/plain": [
       "838.0"
      ]
     },
     "execution_count": 72,
     "metadata": {},
     "output_type": "execute_result"
    }
   ],
   "source": [
    "n_obs"
   ]
  },
  {
   "cell_type": "markdown",
   "metadata": {},
   "source": [
    "# Inference\n",
    "\n",
    "Now we're ready to try to learn the model on some data. In the paper, the instantaneous rate of endorsements to $j$ is given by $\\gamma_j \\propto e^{\\beta s_j}$. This rate is independent of the identity of the endorser. \n",
    "\n",
    "The model used here is an extension in two respects. First, we use a more general rate $\\gamma$ that depends on the identity of both the endorser and the endorsed: \n",
    "\n",
    "$$\\gamma_{ij} \\propto e^{\\beta_1s_j + \\beta_2 (s_i - s_j)^2}$$\n",
    "\n",
    "The incorporation of the quadratic term in the exponent governs a tendency for agents to endorse each other when they are nearby in the hierarchy. If $\\beta_1$ is negative, endorsements that span large swaths of rank-space are discouraged. For example, in the context of faculty hiring, negative values of $-\\beta_2$ would discourage cases in which a very low-ranked school was able to hire a candidate from a very high-ranked school. The model that we have been considering can be recovered by fixing $\\beta_2 = 0$. \n",
    "\n",
    "Second, we also consider a version of this model in which, instead of $s_j$ denoting the SpringRank of $j$, we set $s_j = \\sqrt{d_j}$. In this case, it doesn't matter \"where\" you are in the hierarchy, only the total number of endorsements you've received. \n",
    "\n",
    "The result of SpringRank-based inference is:"
   ]
  },
  {
   "cell_type": "code",
   "execution_count": 73,
   "metadata": {},
   "outputs": [
    {
     "name": "stdout",
     "output_type": "stream",
     "text": [
      "computing memory hyperparameter lambda\n",
      "computing parameter vector beta\n"
     ]
    },
    {
     "data": {
      "text/plain": [
       "{'lam': 0.6740696652730549,\n",
       " 'beta': array([ 3.03013911, -1.73486705]),\n",
       " 'LL': -2123.3302312348123}"
      ]
     },
     "execution_count": 73,
     "metadata": {},
     "output_type": "execute_result"
    }
   ],
   "source": [
    "L_SR = model()\n",
    "\n",
    "L_SR.set_score(\n",
    "    score_function = lambda A: homebrew_SpringRank_score(A.T + .0001, alpha = .01)\n",
    ")\n",
    "\n",
    "linear_feature = lambda s: np.tile(s, (n,1))\n",
    "\n",
    "def quadratic_feature(s):\n",
    "    S = linear_feature(s)\n",
    "    V = (S - S.T)**2\n",
    "    return(V)\n",
    "\n",
    "L_SR.set_features([\n",
    "    linear_feature, \n",
    "    quadratic_feature\n",
    "])\n",
    "\n",
    "L_SR.set_data(T, A0)\n",
    "\n",
    "pars_SR = L_SR.ML(lam0 = .8, \n",
    "           alpha0 = 10**(-4), \n",
    "           tol = 10**(-4), \n",
    "           step_cap = .05,\n",
    "           print_updates = False)\n",
    "pars_SR"
   ]
  },
  {
   "cell_type": "markdown",
   "metadata": {},
   "source": [
    "The result of degree-based inference is: "
   ]
  },
  {
   "cell_type": "code",
   "execution_count": 74,
   "metadata": {},
   "outputs": [
    {
     "name": "stdout",
     "output_type": "stream",
     "text": [
      "computing memory hyperparameter lambda\n",
      "computing parameter vector beta\n"
     ]
    },
    {
     "data": {
      "text/plain": [
       "{'lam': 0.9741468905032888,\n",
       " 'beta': array([ 0.83770368, -0.11868728]),\n",
       " 'LL': -2265.0054906331015}"
      ]
     },
     "execution_count": 74,
     "metadata": {},
     "output_type": "execute_result"
    }
   ],
   "source": [
    "# degree-based inference: this call should be faster\n",
    "\n",
    "L_deg = model()\n",
    "\n",
    "L_deg.set_score(\n",
    "    score_function = lambda A: powered_degree_score(A, p = 0.5)\n",
    ")\n",
    "\n",
    "L_deg.set_features([\n",
    "    lambda s: linear_feature(s), \n",
    "    lambda s: quadratic_feature(s)\n",
    "])\n",
    "\n",
    "L_deg.set_data(T, A0)\n",
    "\n",
    "pars_deg = L_deg.ML(lam0 = .7, \n",
    "           alpha0 = 10**(-4), \n",
    "           tol = 10**(-3), \n",
    "           step_cap = .05,\n",
    "           print_updates = False, \n",
    "           align = False)\n",
    "pars_deg"
   ]
  },
  {
   "cell_type": "code",
   "execution_count": 75,
   "metadata": {},
   "outputs": [
    {
     "name": "stdout",
     "output_type": "stream",
     "text": [
      "computing memory hyperparameter lambda\n",
      "computing parameter vector beta\n"
     ]
    },
    {
     "data": {
      "text/plain": [
       "{'lam': 0.7998381835164764,\n",
       " 'beta': array([ 7.56847366, -8.17497486]),\n",
       " 'LL': -2515.95486996592}"
      ]
     },
     "execution_count": 75,
     "metadata": {},
     "output_type": "execute_result"
    }
   ],
   "source": [
    "# pagerank!\n",
    "\n",
    "L_PR = model()\n",
    "\n",
    "    \n",
    "L_PR.set_score(\n",
    "    score_function = lambda A: PageRank_score(A.T+.001)\n",
    ")\n",
    "\n",
    "L_PR.set_features([\n",
    "    linear_feature, \n",
    "    quadratic_feature\n",
    "])\n",
    "\n",
    "L_PR.set_data(T, A0)\n",
    "\n",
    "pars_PR = L_PR.ML(lam0 = .3, \n",
    "           alpha0 = 10**(-2), \n",
    "           tol = 10**(-5), \n",
    "           step_cap = .1,\n",
    "           print_updates = False, \n",
    "           align = False)\n",
    "pars_PR"
   ]
  },
  {
   "cell_type": "code",
   "execution_count": 76,
   "metadata": {},
   "outputs": [
    {
     "name": "stdout",
     "output_type": "stream",
     "text": [
      "computing memory hyperparameter lambda\n",
      "Lambda = 0.11, LL = 2510.447717403751\n",
      "Lambda = 0.21000000000000002, LL = 2508.391203708681\n",
      "Lambda = 0.31000000000000005, LL = 2506.115441986365\n",
      "Lambda = 0.41000000000000003, LL = 2503.4500254889226\n",
      "Lambda = 0.51, LL = 2500.2403556686877\n",
      "Lambda = 0.61, LL = 2496.55067177795\n",
      "Lambda = 0.71, LL = 2492.7353344494077\n",
      "Lambda = 0.8099999999999999, LL = 2489.3067909712336\n",
      "Lambda = 0.9099999999999999, LL = 2486.7932267945152\n",
      "Lambda = 1.01, LL = 2485.642282997601\n",
      "Lambda = 1.0452595840013237, LL = 2485.6236757802253\n",
      "Lambda = 1.0200288636076584, LL = 2485.615334938295\n",
      "Lambda = 1.0383071947251301, LL = 2485.6104002249003\n",
      "Lambda = 1.0251632786582923, LL = 2485.608155334232\n",
      "Lambda = 1.0346726360273897, LL = 2485.6067983778757\n",
      "Lambda = 1.0278201985363558, LL = 2485.6062110000917\n",
      "computing parameter vector beta\n"
     ]
    },
    {
     "data": {
      "text/plain": [
       "{'lam': 1.0278201985363558,\n",
       " 'beta': array([ 8.16408543, -8.13840264]),\n",
       " 'LL': -2485.6062110000917}"
      ]
     },
     "execution_count": 76,
     "metadata": {},
     "output_type": "execute_result"
    }
   ],
   "source": [
    "L_L = model()\n",
    "\n",
    "L_L.set_score(\n",
    "    score_function = lambda A: fiedler_vector_score(A)\n",
    ")\n",
    "\n",
    "L_L.set_features([\n",
    "    lambda s: linear_feature(s), \n",
    "    lambda s: quadratic_feature(s)\n",
    "])\n",
    "\n",
    "L_L.set_data(T, A0)\n",
    "\n",
    "pars_L = L_L.ML(lam0 = .01, \n",
    "           alpha0 = 10**(-2), \n",
    "           tol = 10**(-3), \n",
    "           step_cap = .1,\n",
    "           print_updates = True, \n",
    "           align = True)\n",
    "pars_L"
   ]
  },
  {
   "cell_type": "code",
   "execution_count": 77,
   "metadata": {},
   "outputs": [
    {
     "name": "stdout",
     "output_type": "stream",
     "text": [
      "computing memory hyperparameter lambda\n",
      "Lambda = 0.7, LL = 2281.345843529778\n",
      "Lambda = 0.7999999999999999, LL = 2278.811686161329\n",
      "Lambda = 0.85, LL = 2278.5020605116415\n",
      "Lambda = 0.8466043727681608, LL = 2278.5013983767376\n",
      "Lambda = 0.8479107233457398, LL = 2278.501275195332\n",
      "Lambda = 0.8474087544387657, LL = 2278.5012666354587\n",
      "Lambda = 0.8476017337985468, LL = 2278.5012616711956\n",
      "Lambda = 0.8475970977857287, LL = 2278.501261669626\n",
      "computing parameter vector beta\n"
     ]
    },
    {
     "data": {
      "text/plain": [
       "{'lam': 0.8475970977857287,\n",
       " 'beta': array([ 5.40782043, -5.38061816]),\n",
       " 'LL': -2278.501261669626}"
      ]
     },
     "execution_count": 77,
     "metadata": {},
     "output_type": "execute_result"
    }
   ],
   "source": [
    "L_K = model()\n",
    "\n",
    "L_K.set_score(\n",
    "    score_function = lambda A: katz_score(A.T, alpha = .02)\n",
    ")\n",
    "\n",
    "L_K.set_features([\n",
    "    lambda s: linear_feature(s), \n",
    "    lambda s: quadratic_feature(s)\n",
    "])\n",
    "\n",
    "L_K.set_data(T, A0)\n",
    "\n",
    "pars_K = L_K.ML(lam0 = 0.6, \n",
    "           alpha0 = 10**(-2), \n",
    "           tol = 10**(-6), \n",
    "           step_cap = .1,\n",
    "           print_updates = True, \n",
    "           align = False)\n",
    "pars_K"
   ]
  },
  {
   "cell_type": "markdown",
   "metadata": {},
   "source": [
    "These results suggest that the degree-based feature model may be preferable to the SpringRank model, based on its higher log-likelihood (LL). Other points to note are that the models give very similar estimates for $\\lambda$, indicating that they agree on the relevant timescales for prediction in these data. \n",
    "\n",
    "Let's proceed with the degree-based parameters. "
   ]
  },
  {
   "cell_type": "code",
   "execution_count": 78,
   "metadata": {},
   "outputs": [
    {
     "name": "stdout",
     "output_type": "stream",
     "text": [
      "SR: [0.141 0.163 0.119]\n",
      "deg: [0.076 0.046 0.014]\n",
      "PR: [0.153 0.981 9.701]\n",
      "L: [0.076 1.197 1.449]\n"
     ]
    }
   ],
   "source": [
    "# batch standard errors\n",
    "\n",
    "d = {\n",
    "    'SR': [L_SR, pars_SR],\n",
    "    'deg': [L_deg, pars_deg], \n",
    "    'PR': [L_PR, pars_PR],\n",
    "    'L': [L_L, pars_L]\n",
    "}\n",
    "\n",
    "for key in d: \n",
    "    L = d[key][0]\n",
    "    pars = d[key][1]\n",
    "    H = L.estimate_hessian(pars['lam'], pars['beta'])\n",
    "    V = np.linalg.inv(-H) # covariance matrix\n",
    "    print(key + ': ' + str(np.round(np.sqrt(np.diag(V)), 3)))"
   ]
  },
  {
   "cell_type": "code",
   "execution_count": 79,
   "metadata": {},
   "outputs": [],
   "source": [
    "pars = pars_SR\n",
    "L = L_SR"
   ]
  },
  {
   "cell_type": "markdown",
   "metadata": {},
   "source": [
    "# Parameter Uncertainty\n",
    "\n",
    "Now let's estimate the covariance matrix of the parameters by inverting the Hessian matrix of the likelihood function at the parameters we solved for. "
   ]
  },
  {
   "cell_type": "code",
   "execution_count": 80,
   "metadata": {},
   "outputs": [
    {
     "data": {
      "text/plain": [
       "array([0.14123753, 0.16269009, 0.11929418])"
      ]
     },
     "execution_count": 80,
     "metadata": {},
     "output_type": "execute_result"
    }
   ],
   "source": [
    "# again might take a little while\n",
    "\n",
    "H = L.estimate_hessian(pars['lam'], pars['beta'])\n",
    "V = np.linalg.inv(-H) # covariance matrix\n",
    "np.sqrt(np.diag(V))"
   ]
  },
  {
   "cell_type": "code",
   "execution_count": 81,
   "metadata": {},
   "outputs": [
    {
     "data": {
      "text/plain": [
       "array([ 3.03013911, -1.73486705])"
      ]
     },
     "execution_count": 81,
     "metadata": {},
     "output_type": "execute_result"
    }
   ],
   "source": [
    "pars['beta']"
   ]
  },
  {
   "cell_type": "code",
   "execution_count": 82,
   "metadata": {},
   "outputs": [
    {
     "data": {
      "image/png": "[encoded data removed]",
      "text/plain": [
       "<Figure size 576x216 with 4 Axes>"
      ]
     },
     "metadata": {
      "needs_background": "light"
     },
     "output_type": "display_data"
    }
   ],
   "source": [
    "fig = plt.figure(figsize = (8, 3))\n",
    "ax = fig.add_subplot(121)\n",
    "im = ax.imshow(V, cmap = 'BrBG', vmin = -0.03, vmax = 0.03) # estimated covariance matrix\n",
    "plt.colorbar(im)\n",
    "t = ax.set_title('Covariance matrix')\n",
    "plt.xticks([0,1,2], [r'$\\lambda$', r'$\\beta_1$', r'$\\beta_2$'])\n",
    "plt.yticks([0,1,2], [r'$\\lambda$', r'$\\beta_1$', r'$\\beta_2$'])\n",
    "\n",
    "ax = fig.add_subplot(122)\n",
    "p = np.concatenate(([pars['lam']], pars['beta']))\n",
    "im = ax.imshow(np.sqrt(V/np.outer(p,p)), cmap = 'inferno')    # coefficient of variation\n",
    "plt.colorbar(im)\n",
    "\n",
    "plt.xticks([0,1,2], [r'$\\lambda$', r'$\\beta_1$', r'$\\beta_2$'])\n",
    "plt.yticks([0,1,2], [r'$\\lambda$', r'$\\beta_1$', r'$\\beta_2$'])\n",
    "\n",
    "t = ax.set_title('Coefficients of variation')\n",
    "\n",
    "plt.tight_layout()\n",
    "\n",
    "plt.savefig('fig/parakeet_cv.png', dpi = 300)"
   ]
  },
  {
   "cell_type": "markdown",
   "metadata": {},
   "source": [
    "The model is extremely confident about its prediction in $\\lambda$, indicated by the fact that the rows and columns corresponding to $\\lambda$ are very small. There is a negative correlation between $\\beta_1$ and $\\beta_2$, indicating that there are regions of parameter space that are \"nearly as good\" (as measured by the likelihood) in which $\\beta_1$ is smaller and $\\beta_2$ is larger, or vice-versa. \n",
    "\n",
    "How \"big\" is the covariance matrix relative to the data? Not too large! The coefficients of variation for each pair of variables are all well below $5\\%$, indicating that we can be roughly 95% confidence of our estimates within 10% accuracy or better. The greatest amount of relative uncertainty is in the estimate of $\\beta_2$. \n",
    "\n",
    "While this is a highly informal approach and should not be confused with actual statistics, the small coefficients of variation are heuristic evidence that all the parameters are significantly different from zero. "
   ]
  },
  {
   "cell_type": "markdown",
   "metadata": {},
   "source": [
    "# Snapshot of model prediction\n",
    "\n",
    "The mini-study below considers how the model ''works.'' "
   ]
  },
  {
   "cell_type": "code",
   "execution_count": 83,
   "metadata": {},
   "outputs": [
    {
     "data": {
      "image/png": "[encoded data removed]",
      "text/plain": [
       "<Figure size 864x360 with 3 Axes>"
      ]
     },
     "metadata": {
      "needs_background": "light"
     },
     "output_type": "display_data"
    }
   ],
   "source": [
    "# snapshot of the state and cumulative hiring matrix at specified time i\n",
    "\n",
    "# A = state_matrix(T, A0 = A0, lam = pars['lam'])\n",
    "\n",
    "# S = SR_quadratic_feature(A)\n",
    "\n",
    "i = 2\n",
    "\n",
    "V = L.GAMMA[i]\n",
    "# V = softmax(S, np.array([2.8, 0]))[i]\n",
    "\n",
    "fig = plt.figure(figsize = (12, 5))\n",
    "ax = fig.add_subplot(131)\n",
    "ax.imshow(np.ones_like(V), cmap = 'Greys', vmax = 1, vmin = 0, alpha = 1)\n",
    "ax.imshow(matrix_sort(L.A[i], -V.sum(axis = 0)), vmax = 5,  cmap = 'Greys', alpha = .99)\n",
    "ax.set(title = r'State matrix $\\mathbf{A}^{(t)}$')\n",
    "ax.axis('off')\n",
    "\n",
    "ax = fig.add_subplot(132)\n",
    "# plt.imshow(np.ones_like(V), cmap = 'Greys', vmax = 1)\n",
    "ax.imshow(matrix_sort(V, -V.sum(axis = 0)), alpha = .995, cmap = 'inferno', vmax = .5)\n",
    "ax.set(title = 'Inferred rate matrix $\\mathbf{\\Gamma}^{(t)}$')\n",
    "plt.gca().axis('off')\n",
    "\n",
    "ax = fig.add_subplot(133)\n",
    "ax.imshow(np.ones_like(T[i]), cmap = 'Greys', vmax = 1, vmin = 0, alpha = 1)\n",
    "ax.imshow(matrix_sort(T[i+1]-T[i], -V.sum(axis = 0)), vmax = 5,  cmap = 'Greys', alpha = .99)\n",
    "ax.set(title = 'Update $\\mathbf{\\Delta}^{(t+1)}$')\n",
    "ax.axis('off')\n",
    "# plt.colorbar()\n",
    "\n",
    "plt.savefig('fig/parakeet_illustration.png', dpi = 300, bbox_inches = 'tight')"
   ]
  },
  {
   "cell_type": "markdown",
   "metadata": {},
   "source": [
    "On the far left, we show the model state $A_t$ at time $t = 30$. Each entry of this matrix is a weighted sum of previous hiring events: $A_{ij}^{(t)} = \\sum_{\\tau = 1}^t \\lambda^\\tau E_{ij}^{(\\tau)}$, where $E_{ij}^{(\\tau)}$ is the number of times $i$ endorsed $j$ in time period $\\tau$. This matrix is an input into the rate matrix $\\Gamma$, which is shown in the center. This is a matrix of predictions about endorsements in the next time-step: entry $\\gamma_{ij}$ is proportional to the predicted probability that $i$ will endorse $j$ in the next timestep. Finally, we can (heuristically) compare the rate matrix to the observed update at time $t+1$, noting that the bulk of endorsement events do indeed occur in regions of high probability specified by the rate matrix. "
   ]
  },
  {
   "cell_type": "markdown",
   "metadata": {},
   "source": [
    "# Inferred rank dynamics\n",
    "\n",
    "Now let's visualize the evolution of this system as understood by the model. It's of possible interest to visualize at least two distinct objects. The first is the overall modeled endorsement rate, which predicts the rate of endorsements of $j$ in the next timestep. The second is the intrinsic ranks modeled for each individual school. "
   ]
  },
  {
   "cell_type": "code",
   "execution_count": 84,
   "metadata": {},
   "outputs": [],
   "source": [
    "SMALL_SIZE = 8\n",
    "MEDIUM_SIZE = 12\n",
    "BIGGER_SIZE = 14\n",
    "\n",
    "plt.rc('font', size=SMALL_SIZE)          # controls default text sizes\n",
    "plt.rc('axes', titlesize=BIGGER_SIZE)     # fontsize of the axes title\n",
    "plt.rc('axes', labelsize=BIGGER_SIZE)    # fontsize of the x and y labels\n",
    "plt.rc('xtick', labelsize=MEDIUM_SIZE)    # fontsize of the tick labels\n",
    "plt.rc('ytick', labelsize=MEDIUM_SIZE)    # fontsize of the tick labels\n",
    "plt.rc('legend', fontsize=MEDIUM_SIZE)    # legend fontsize\n",
    "plt.rc('figure', titlesize=BIGGER_SIZE)  # fontsize of the figure title"
   ]
  },
  {
   "cell_type": "code",
   "execution_count": 85,
   "metadata": {},
   "outputs": [],
   "source": [
    "GAMMA = L_SR.GAMMA.mean(axis = 1)\n",
    "\n",
    "top_trajectories = np.unique(GAMMA.argmax(axis = 1))\n",
    "top_trajectories = (-GAMMA.mean(axis = 0)).argsort()[0:8]"
   ]
  },
  {
   "cell_type": "code",
   "execution_count": 86,
   "metadata": {},
   "outputs": [
    {
     "data": {
      "image/png": "[encoded data removed]",
      "text/plain": [
       "<Figure size 864x576 with 6 Axes>"
      ]
     },
     "metadata": {
      "needs_background": "light"
     },
     "output_type": "display_data"
    }
   ],
   "source": [
    "fig, axarr = plt.subplots(2, 3, figsize = (12,8))\n",
    "\n",
    "L = L_SR\n",
    "\n",
    "# first row\n",
    "\n",
    "i = 2 # the timestep to grab\n",
    "\n",
    "V = L.GAMMA[i]\n",
    "# V = softmax(S, np.array([2.8, 0]))[i]\n",
    "\n",
    "ax = axarr[0,0]\n",
    "ax.imshow(np.ones_like(V), cmap = 'Greys', vmax = 1, vmin = 0, alpha = 1)\n",
    "ax.imshow(matrix_sort(L.A[i], -V.sum(axis = 0)),  cmap = 'Greys', alpha = .99)\n",
    "ax.set(title = r'(a) State matrix $\\mathbf{A}^{(2)}$')\n",
    "ax.axis('off')\n",
    "\n",
    "ax = axarr[0,1]\n",
    "# plt.imshow(np.ones_like(V), cmap = 'Greys', vmax = 1)\n",
    "ax.imshow(matrix_sort(V, -V.sum(axis = 0)), alpha = .995, vmax = .4, cmap = 'inferno')\n",
    "ax.set(title = '(b) Inferred rate matrix $\\mathbf{G}^{(2)}$ (SpringRank)')\n",
    "ax.axis('off')\n",
    "\n",
    "ax = axarr[0,2]\n",
    "ax.imshow(np.ones_like(T[i]), cmap = 'Greys',vmin = 0, alpha = 1)\n",
    "ax.imshow(matrix_sort(T[i+1]-T[i], -V.sum(axis = 0)),   cmap = 'Greys', alpha = .99)\n",
    "ax.set(title = '(c) Update $\\mathbf{\\Delta}^{(2)}$')\n",
    "ax.axis('off')\n",
    "# plt.colorbar()\n",
    "\n",
    "# second row\n",
    "\n",
    "models_list = [L_SR, L_deg, L_L]\n",
    "pars_list = [pars_SR, pars_deg, pars_L]\n",
    "model_names = ['(d) Ranks $\\gamma$ (SpringRank)', r'(e) Ranks $\\gamma$ (Root-Degree)', '(f) Ranks $\\gamma$ (Fiedler Vector)']\n",
    "\n",
    "for p in range(3):\n",
    "    ax = axarr[1,p]\n",
    "    L = models_list[p]\n",
    "    pars = pars_list[p]\n",
    "    \n",
    "    GAMMA = L.GAMMA.mean(axis = 1)\n",
    "    \n",
    "    if p == 0:\n",
    "        ax.vlines(x = 2, ymin = 0, ymax = 0.2, linestyle = 'dashed', linewidth = .5)\n",
    "\n",
    "    \n",
    "    ax.plot(timesteps, GAMMA, color = 'grey', alpha = .3)\n",
    "\n",
    "    k = 0\n",
    "    for i in range(n):        \n",
    "        if i in top_trajectories:\n",
    "            ax.plot(timesteps, GAMMA[:,i], color = cset_muted[k], alpha = 1, linewidth = 3)\n",
    "            k += 1\n",
    "    ax.set(ylim = (0, .2))\n",
    "    \n",
    "    ax.spines['top'].set_visible(False)\n",
    "    ax.spines['right'].set_visible(False)\n",
    "\n",
    "    # ax.spines['left'].set_bounds(0, GAMMA.max())\n",
    "    ax.spines['bottom'].set_bounds(timesteps.min(), timesteps.max())\n",
    "\n",
    "    ax.set(title = model_names[p])\n",
    "    \n",
    "axarr[1,1].set(xlabel = 'Quarter')\n",
    "\n",
    "plt.tight_layout()\n",
    "\n",
    "axarr[1,0].set(ylabel = r'$\\gamma$')\n",
    "\n",
    "plt.savefig('fig/parakeet_' + group + '_case_study.png', bbox_inches = 'tight', dpi = 300)"
   ]
  },
  {
   "cell_type": "code",
   "execution_count": null,
   "metadata": {},
   "outputs": [],
   "source": []
  }
 ],
 "metadata": {
  "kernelspec": {
   "display_name": "Python 3",
   "language": "python",
   "name": "python3"
  },
  "language_info": {
   "codemirror_mode": {
    "name": "ipython",
    "version": 3
   },
   "file_extension": ".py",
   "mimetype": "text/x-python",
   "name": "python",
   "nbconvert_exporter": "python",
   "pygments_lexer": "ipython3",
   "version": "3.7.2"
  }
 },
 "nbformat": 4,
 "nbformat_minor": 2
}
