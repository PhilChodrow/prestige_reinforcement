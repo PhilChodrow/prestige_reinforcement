{
 "cells": [
  {
   "cell_type": "code",
   "execution_count": 1,
   "metadata": {},
   "outputs": [],
   "source": [
    "import numpy as np\n",
    "from numba import jit\n",
    "\n",
    "from py.model import *\n",
    "from py.scores import *\n",
    "\n",
    "import pandas as pd\n",
    "# from SpringRank import SpringRank\n",
    "\n",
    "from matplotlib import pyplot as plt\n",
    "\n",
    "from scipy.optimize import root, minimize\n",
    "from scipy.optimize.slsqp import approx_jacobian\n",
    "from itertools import product\n",
    "\n",
    "from autograd import jacobian\n",
    "\n",
    "\n",
    "import matplotlib\n",
    "matplotlib.rcParams['font.sans-serif'] = \"Arial Unicode MS\""
   ]
  },
  {
   "cell_type": "code",
   "execution_count": 2,
   "metadata": {},
   "outputs": [],
   "source": [
    "cset = ['#4477AA', '#EE6677', '#228833', '#CCBB44', '#66CCEE', '#AA3377']\n",
    "cset_muted = ['#CC6677', '#332288', '#DDCC77', '#117733', '#88CCEE', '#882255', '#44AA99', '#999933', '#AA4499', '#DDDDDD','#000000']"
   ]
  },
  {
   "cell_type": "code",
   "execution_count": 3,
   "metadata": {},
   "outputs": [],
   "source": [
    "def compute_gamma(s, beta):\n",
    "    gamma = np.exp(beta*s)\n",
    "    gamma = gamma/gamma.sum()\n",
    "    return(gamma)\n",
    "\n",
    "def make_s(s_1, s_2, n_1, n):\n",
    "        \n",
    "    s_1 = s_1\n",
    "    s_2 = s_2\n",
    "    \n",
    "    n_1 = int(n_1)\n",
    "    n_2 = n - n_1\n",
    "    \n",
    "    s = np.zeros(n)\n",
    "    s[0:n_1] += 1*s_1\n",
    "    s[n_1:n] += 1*s_2\n",
    "#     s = s - (s.sum()-1)/n \n",
    "    return(s)\n",
    "\n",
    "def make_gamma(s_1, s_2, n_1, n, beta):\n",
    "    s = make_s(s_1, s_2, n_1, n)\n",
    "\n",
    "    return(compute_gamma(np.sqrt(s), beta)) # for root-degree score\n",
    "\n",
    "def f(s_1, s_2, n_1, n, beta):\n",
    "    return(make_s(s_1, s_2, n_1, n) - make_gamma(s_1, s_2, n_1, n, beta))"
   ]
  },
  {
   "cell_type": "markdown",
   "metadata": {},
   "source": [
    "So, we'd like to organize this calculation in a nicer fashion. One way to do this will be to build up a data frame, sort on certain features, and then group them appropriately. We'll need iterators for n_1 and beta. We'll also need to allow for multiple solutions..."
   ]
  },
  {
   "cell_type": "markdown",
   "metadata": {},
   "source": [
    "# Compute the space of solutions"
   ]
  },
  {
   "cell_type": "code",
   "execution_count": 4,
   "metadata": {},
   "outputs": [],
   "source": [
    "BETA_GRID = np.linspace(0, 10, 201)\n",
    "n_1   = np.arange(1, 6)\n",
    "rep = np.arange(0, 101)\n",
    "\n",
    "n = 10\n",
    "\n",
    "def g(row):\n",
    "    x0 = np.random.rand(2)\n",
    "    x0 = x0 / x0.sum()\n",
    "    res = root(lambda s: f(s[0],s[1], row.n_1, n, row.beta)[[0,n-1],], x0 = x0, tol = 10**(-8))\n",
    "    if res['success']:\n",
    "        return(pd.Series(res['x'], index = ['s_1', 's_2']))\n",
    "    else:\n",
    "        return(pd.Series([np.nan, np.nan], index = ['s_1', 's_2']))"
   ]
  },
  {
   "cell_type": "code",
   "execution_count": 5,
   "metadata": {},
   "outputs": [
    {
     "name": "stderr",
     "output_type": "stream",
     "text": [
      "/Library/Frameworks/Python.framework/Versions/3.7/lib/python3.7/site-packages/ipykernel_launcher.py:23: RuntimeWarning: invalid value encountered in sqrt\n"
     ]
    }
   ],
   "source": [
    "df = pd.DataFrame(list(product(BETA_GRID, n_1, rep)), columns=['beta', 'n_1', 'rep'])\n",
    "\n",
    "df = pd.concat([df, df.apply(g, axis = 1, result_type='expand')], axis = 1) # compute a bunch of equilibria\n",
    "df = df.sort_values(['beta', 'n_1', 's_1'])\n",
    "df = df[df.s_1.notnull()]\n",
    "df['s_1'] = np.round(df.s_1, 3)\n",
    "df['s_2'] = np.round(df.s_2, 3)\n",
    "df['s1'] = df[['s_1', 's_2']].max(axis = 1)\n",
    "df['s2'] = df[['s_1', 's_2']].min(axis = 1)\n",
    "df = df.drop_duplicates(['n_1', 'beta', 's1', 's2'])\n",
    "df = df.drop(['s_1', 's_2', 'rep'], axis = 1)\n",
    "\n",
    "df['group'] = df.groupby(['beta', 'n_1'])['s1'].rank(method = 'first')\n",
    "\n",
    "df = pd.concat([df, df.apply(lambda row: pd.Series(make_s(row.s1, row.s2, row.n_1, n)[[0,-1]], index = ['G1', 'G2'],),\n",
    "                            result_type = 'expand',\n",
    "                            axis = 1)],\n",
    "              axis = 1)"
   ]
  },
  {
   "cell_type": "code",
   "execution_count": 6,
   "metadata": {},
   "outputs": [
    {
     "data": {
      "image/png": "[encoded data removed]",
      "text/plain": [
       "<Figure size 432x288 with 1 Axes>"
      ]
     },
     "metadata": {
      "needs_background": "light"
     },
     "output_type": "display_data"
    }
   ],
   "source": [
    "p = df.groupby(['n_1','group' ]).apply(lambda g: plt.plot(g.beta, g.G1, color = 'lightgrey', zorder = 1))\n",
    "p = df.groupby(['n_1','group' ]).apply(lambda g: plt.plot(g.beta, g.G2, color = 'lightgrey', zorder = 1))\n",
    "# plt.semilogy()"
   ]
  },
  {
   "cell_type": "markdown",
   "metadata": {},
   "source": [
    "# Compute stability"
   ]
  },
  {
   "cell_type": "code",
   "execution_count": 7,
   "metadata": {},
   "outputs": [],
   "source": [
    "def jacobian(n_1, s_1, s_2, n, beta):\n",
    "    s = make_s(s_1, s_2, n_1, n)\n",
    "    gamma = compute_gamma(s, beta)\n",
    "    Gamma = np.diag(gamma)\n",
    "    J = beta/2*(Gamma - np.outer(gamma, gamma)).dot(np.diag(s**(-1/2)))\n",
    "    return(J)\n",
    "\n",
    "def test_stable(n_1, s_1, s_2, n, beta):\n",
    "    J = jacobian(n_1, s_1, s_2, n, beta)\n",
    "    try:\n",
    "        stable = np.abs(np.linalg.eig(J)[0]).max() < .98 # bit of a fudge factor\n",
    "        return(stable)\n",
    "    except np.linalg.LinAlgError:\n",
    "        return(False)"
   ]
  },
  {
   "cell_type": "code",
   "execution_count": 14,
   "metadata": {},
   "outputs": [
    {
     "name": "stderr",
     "output_type": "stream",
     "text": [
      "/Library/Frameworks/Python.framework/Versions/3.7/lib/python3.7/site-packages/ipykernel_launcher.py:5: RuntimeWarning: divide by zero encountered in power\n",
      "  \"\"\"\n"
     ]
    }
   ],
   "source": [
    "df['stable'] = df.apply(lambda row: test_stable(row.n_1, row.s1, row.s2, n, row.beta), axis = 1)\n",
    "# smoothing, needs some care\n",
    "# df['stable'] = df.groupby(['n_1', 'group'])['stable'].transform(lambda g: g.max())\n",
    "\n",
    "# idx = df.groupby(['beta'])['s1'].transform(max) == df['s1']\n",
    "# df.stable[idx] = True\n",
    "\n",
    "# df['stable']\n",
    "\n",
    "# df['stable'] = df.eig < 1"
   ]
  },
  {
   "cell_type": "code",
   "execution_count": 18,
   "metadata": {},
   "outputs": [
    {
     "data": {
      "text/plain": [
       "[<matplotlib.lines.Line2D at 0x119ca1dd8>]"
      ]
     },
     "execution_count": 18,
     "metadata": {},
     "output_type": "execute_result"
    },
    {
     "data": {
      "image/png": "[encoded data removed]",
      "text/plain": [
       "<Figure size 432x288 with 1 Axes>"
      ]
     },
     "metadata": {
      "needs_background": "light"
     },
     "output_type": "display_data"
    }
   ],
   "source": [
    "colors = ['lightgrey', 'black']\n",
    "p = df.groupby(['n_1','group', 'stable']).apply(lambda g: plt.plot(g.beta, g.G1, zorder = 1, color = colors[int(g.stable.max())]))\n",
    "p = df.groupby(['n_1','group', 'stable']).apply(lambda g: plt.plot(g.beta, g.G2, zorder = 1, color = colors[int(g.stable.max())]))\n",
    "\n",
    "ix = df.G1 > .9\n",
    "\n",
    "plt.plot(df.beta[ix], df.G1[ix], zorder = 1, color = 'black')\n",
    "plt.plot(df.beta[ix], df.G2[ix], zorder = 1, color = 'black')"
   ]
  },
  {
   "cell_type": "markdown",
   "metadata": {},
   "source": [
    "# Simulations"
   ]
  },
  {
   "cell_type": "code",
   "execution_count": 680,
   "metadata": {},
   "outputs": [],
   "source": [
    "n = 10\n",
    "\n",
    "def linear_feature(s):\n",
    "    return(np.outer(np.ones(len(s)), s))\n",
    "\n",
    "A0 = np.random.rand(n,n)\n",
    "A0 = A0/A0.sum()\n",
    "\n",
    "lam = .9995\n",
    "n_rounds = 50000\n",
    "\n",
    "m_updates = 1\n",
    "\n",
    "b_grid = 51\n",
    "BETAS = np.linspace(0,10, b_grid)\n",
    "\n",
    "V = np.zeros((b_grid, n))\n",
    "\n",
    "M = model()\n",
    "M.set_score(score_function = lambda A: powered_degree_score(A, .5))\n",
    "M.set_features([linear_feature])\n",
    "\n",
    "for j in range(b_grid):\n",
    "\n",
    "    M.simulate(beta = np.array([BETAS[j]]), \n",
    "                       lam = lam, \n",
    "                       A0 = A0, \n",
    "                       n_rounds = n_rounds, \n",
    "                       update = stochastic_update, \n",
    "                       m_updates = m_updates)\n",
    "    GAMMA = M.get_rates()\n",
    "    GAMMA = np.sort(GAMMA, axis = 2)\n",
    "    V[j] = GAMMA[(-2000):(-1)].mean(axis = (0,1))"
   ]
  },
  {
   "cell_type": "code",
   "execution_count": 683,
   "metadata": {},
   "outputs": [
    {
     "data": {
      "image/png": "[encoded data removed]",
      "text/plain": [
       "<Figure size 432x288 with 1 Axes>"
      ]
     },
     "metadata": {
      "needs_background": "light"
     },
     "output_type": "display_data"
    }
   ],
   "source": [
    "fig = plt.figure()\n",
    "ax = fig.add_subplot(111)\n",
    "\n",
    "pred = 2*n**(1/2)\n",
    "\n",
    "colors = ['lightgrey', 'black']\n",
    "p = df.groupby(['n_1','group', 'stable']).apply(lambda g: ax.plot(g.beta, g.G1, zorder = 1, color = colors[int(g.stable.max())], linewidth = 1))\n",
    "p = df.groupby(['n_1','group', 'stable']).apply(lambda g: ax.plot(g.beta, g.G2, zorder = 1, color = colors[int(g.stable.max())], linewidth = 1))\n",
    "\n",
    "# a bit of fudge in the plot due to numerical issues in computing the Jacobian\n",
    "ix = df.G1 > .9\n",
    "\n",
    "plt.plot(df.beta[ix], df.G1[ix], zorder = 1, color = 'black', linewidth = 1)\n",
    "plt.plot(df.beta[ix], df.G2[ix], zorder = 1, color = 'black', linewidth = 1)\n",
    "\n",
    "plt.plot([0, pred], [1/n, 1/n], zorder = 1, color = 'black', linewidth = 1)\n",
    "\n",
    "# plt.ylim(10**(-3), 1.2)\n",
    "v = ax.vlines(x = pred, \n",
    "                    ymin = 0, \n",
    "                    ymax = 1, \n",
    "                    linewidth = .5, \n",
    "                    linestyle = 'dashed')\n",
    "\n",
    "for j in range(n):\n",
    "    ax.scatter(BETAS, V[:,j],   s = 20, alpha = 1, zorder = 2 ,facecolors='none', edgecolors = cset[0])\n",
    "\n",
    "    \n",
    "ax.set(xlabel = r'$\\beta$', \n",
    "       ylabel = r'$s$')\n",
    "ax.spines['top'].set_visible(False)\n",
    "ax.spines['right'].set_visible(False)\n",
    "plt.savefig('fig/degree_sim_with_curves.png', dpi = 300, bbox_inches = 'tight')"
   ]
  },
  {
   "cell_type": "code",
   "execution_count": 682,
   "metadata": {},
   "outputs": [],
   "source": [
    "np.savetxt('throughput/degree_score_trajectory.txt', V)"
   ]
  },
  {
   "cell_type": "code",
   "execution_count": null,
   "metadata": {},
   "outputs": [],
   "source": []
  }
 ],
 "metadata": {
  "kernelspec": {
   "display_name": "Python 3",
   "language": "python",
   "name": "python3"
  },
  "language_info": {
   "codemirror_mode": {
    "name": "ipython",
    "version": 3
   },
   "file_extension": ".py",
   "mimetype": "text/x-python",
   "name": "python",
   "nbconvert_exporter": "python",
   "pygments_lexer": "ipython3",
   "version": "3.7.2"
  }
 },
 "nbformat": 4,
 "nbformat_minor": 2
}
