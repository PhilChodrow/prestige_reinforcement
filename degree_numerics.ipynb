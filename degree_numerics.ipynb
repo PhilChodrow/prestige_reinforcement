{
 "cells": [
  {
   "cell_type": "code",
   "execution_count": 1,
   "metadata": {},
   "outputs": [],
   "source": [
    "import numpy as np\n",
    "from numba import jit\n",
    "\n",
    "from py.model import *\n",
    "from py.scores import *\n",
    "\n",
    "import pandas as pd\n",
    "# from SpringRank import SpringRank\n",
    "\n",
    "from matplotlib import pyplot as plt\n",
    "\n",
    "from scipy.optimize import root, minimize\n",
    "from scipy.optimize.slsqp import approx_jacobian\n",
    "from itertools import product\n",
    "\n",
    "from autograd import jacobian\n",
    "\n",
    "\n",
    "import matplotlib\n",
    "matplotlib.rcParams['font.sans-serif'] = \"Arial Unicode MS\""
   ]
  },
  {
   "cell_type": "code",
   "execution_count": 2,
   "metadata": {},
   "outputs": [],
   "source": [
    "cset = ['#4477AA', '#EE6677', '#228833', '#CCBB44', '#66CCEE', '#AA3377']\n",
    "cset_muted = ['#CC6677', '#332288', '#DDCC77', '#117733', '#88CCEE', '#882255', '#44AA99', '#999933', '#AA4499', '#DDDDDD','#000000']"
   ]
  },
  {
   "cell_type": "code",
   "execution_count": 3,
   "metadata": {},
   "outputs": [],
   "source": [
    "def compute_gamma(s, beta):\n",
    "    gamma = np.exp(beta*s)\n",
    "    gamma = gamma/gamma.sum()\n",
    "    return(gamma)\n",
    "\n",
    "def make_s(s_1, s_2, n_1, n):\n",
    "        \n",
    "    s_1 = s_1\n",
    "    s_2 = s_2\n",
    "    \n",
    "    n_1 = int(n_1)\n",
    "    n_2 = n - n_1\n",
    "    \n",
    "    s = np.zeros(n)\n",
    "    s[0:n_1] += 1*s_1\n",
    "    s[n_1:n] += 1*s_2\n",
    "#     s = s - (s.sum()-1)/n \n",
    "    return(s)\n",
    "\n",
    "def make_gamma(s_1, s_2, n_1, n, beta):\n",
    "    s = make_s(s_1, s_2, n_1, n)\n",
    "\n",
    "    return(compute_gamma(np.sqrt(s), beta)) # for root-degree score\n",
    "\n",
    "def f(s_1, s_2, n_1, n, beta):\n",
    "    return(make_s(s_1, s_2, n_1, n) - make_gamma(s_1, s_2, n_1, n, beta))"
   ]
  },
  {
   "cell_type": "markdown",
   "metadata": {},
   "source": [
    "So, we'd like to organize this calculation in a nicer fashion. One way to do this will be to build up a data frame, sort on certain features, and then group them appropriately. We'll need iterators for n_1 and beta. We'll also need to allow for multiple solutions..."
   ]
  },
  {
   "cell_type": "markdown",
   "metadata": {},
   "source": [
    "# Compute the space of solutions"
   ]
  },
  {
   "cell_type": "code",
   "execution_count": 5,
   "metadata": {},
   "outputs": [],
   "source": [
    "BETA_GRID = np.linspace(0, 10, 201)\n",
    "n_1   = np.arange(1, 8)\n",
    "rep = np.arange(0, 101)\n",
    "\n",
    "n = 8\n",
    "\n",
    "def g(row):\n",
    "    x0 = np.random.rand(2)\n",
    "    x0 = x0 / x0.sum()\n",
    "    res = root(lambda s: f(s[0],s[1], row.n_1, n, row.beta)[[0,n-1],], x0 = x0, tol = 10**(-8))\n",
    "    if res['success']:\n",
    "        return(pd.Series(res['x'], index = ['s_1', 's_2']))\n",
    "    else:\n",
    "        return(pd.Series([np.nan, np.nan], index = ['s_1', 's_2']))"
   ]
  },
  {
   "cell_type": "code",
   "execution_count": 6,
   "metadata": {},
   "outputs": [
    {
     "name": "stderr",
     "output_type": "stream",
     "text": [
      "/Users/philchodrow/Library/Python/3.7/lib/python/site-packages/ipykernel_launcher.py:23: RuntimeWarning: invalid value encountered in sqrt\n"
     ]
    }
   ],
   "source": [
    "df = pd.DataFrame(list(product(BETA_GRID, n_1, rep)), columns=['beta', 'n_1', 'rep'])\n",
    "\n",
    "df = pd.concat([df, df.apply(g, axis = 1, result_type='expand')], axis = 1) # compute a bunch of equilibria\n",
    "df = df.sort_values(['beta', 'n_1', 's_1'])\n",
    "df = df[df.s_1.notnull()]\n",
    "df['s_1'] = np.round(df.s_1, 3)\n",
    "df['s_2'] = np.round(df.s_2, 3)\n",
    "df['s1'] = df[['s_1', 's_2']].max(axis = 1)\n",
    "df['s2'] = df[['s_1', 's_2']].min(axis = 1)\n",
    "df = df.drop_duplicates(['n_1', 'beta', 's1', 's2'])\n",
    "df = df.drop(['s_1', 's_2', 'rep'], axis = 1)\n",
    "\n",
    "df['group'] = df.groupby(['beta', 'n_1'])['s1'].rank(method = 'first')\n",
    "\n",
    "df = pd.concat([df, df.apply(lambda row: pd.Series(make_s(row.s1, row.s2, row.n_1, n)[[0,-1]], index = ['s_1', 's_2']),\n",
    "                            result_type = 'expand',\n",
    "                            axis = 1)],\n",
    "              axis = 1)\n",
    "df = df.drop(['s1','s2'], axis = 1)"
   ]
  },
  {
   "cell_type": "code",
   "execution_count": 7,
   "metadata": {},
   "outputs": [
    {
     "data": {
      "image/png": "[encoded data removed]",
      "text/plain": [
       "<Figure size 432x288 with 1 Axes>"
      ]
     },
     "metadata": {
      "needs_background": "light"
     },
     "output_type": "display_data"
    }
   ],
   "source": [
    "p = df.groupby(['n_1','group' ]).apply(lambda g: plt.plot(g.beta, g.s_1, color = 'lightgrey', zorder = 1))\n",
    "p = df.groupby(['n_1','group' ]).apply(lambda g: plt.plot(g.beta, g.s_2, color = 'lightgrey', zorder = 1))\n",
    "# plt.semilogy()"
   ]
  },
  {
   "cell_type": "code",
   "execution_count": 7,
   "metadata": {},
   "outputs": [],
   "source": [
    "def compute_gamma_(row, power = 1): \n",
    "    beta = row.beta\n",
    "    s_1 = row.s_1\n",
    "    s_2 = row.s_2\n",
    "    n_1 = row.n_1\n",
    "    n_2 = n - n_1\n",
    "    \n",
    "    v_1 = np.exp(beta*(s_1**power))\n",
    "    v_2 = np.exp(beta*(s_2**power))\n",
    "    \n",
    "    gamma_1 = np.array(v_1/(n_1*v_1 + n_2*v_2))\n",
    "    gamma_2 = np.array(v_2/(n_1*v_1 + n_2*v_2))\n",
    "    \n",
    "    return(pd.Series([gamma_1, gamma_2], index = ['gamma_1', 'gamma_2']))\n",
    "\n",
    "df = pd.concat((df, df.apply(compute_gamma_, result_type = 'expand', axis = 1, power = 1/2)), axis = 1)\n",
    "\n",
    "df = df[np.abs(df.s_1 - df.gamma_1) < .01]"
   ]
  },
  {
   "cell_type": "markdown",
   "metadata": {},
   "source": [
    "# Compute stability"
   ]
  },
  {
   "cell_type": "code",
   "execution_count": 8,
   "metadata": {},
   "outputs": [],
   "source": [
    "def jacobian(n_1, s_1, s_2, n, beta):\n",
    "    s = make_s(s_1, s_2, n_1, n)\n",
    "    gamma = compute_gamma(s, beta)\n",
    "    Gamma = np.diag(gamma)\n",
    "    J = beta/2*(Gamma - np.outer(gamma, gamma)).dot(np.diag(s**(-1/2)))\n",
    "    return(J)\n",
    "\n",
    "def test_stable(n_1, s_1, s_2, n, beta):\n",
    "    J = jacobian(n_1, s_1, s_2, n, beta)\n",
    "    try:\n",
    "        stable = np.abs(np.linalg.eig(J)[0]).max() < .98 # bit of a fudge factor for funky numerics\n",
    "        return(stable)\n",
    "    except np.linalg.LinAlgError:\n",
    "        return(False)"
   ]
  },
  {
   "cell_type": "code",
   "execution_count": 9,
   "metadata": {},
   "outputs": [
    {
     "name": "stderr",
     "output_type": "stream",
     "text": [
      "/Users/philchodrow/Library/Python/3.7/lib/python/site-packages/ipykernel_launcher.py:5: RuntimeWarning: divide by zero encountered in power\n",
      "  \"\"\"\n",
      "/Users/philchodrow/Library/Python/3.7/lib/python/site-packages/ipykernel_launcher.py:6: SettingWithCopyWarning: \n",
      "A value is trying to be set on a copy of a slice from a DataFrame\n",
      "\n",
      "See the caveats in the documentation: http://pandas.pydata.org/pandas-docs/stable/indexing.html#indexing-view-versus-copy\n",
      "  \n",
      "/Users/philchodrow/Library/Python/3.7/lib/python/site-packages/ipykernel_launcher.py:8: SettingWithCopyWarning: \n",
      "A value is trying to be set on a copy of a slice from a DataFrame\n",
      "\n",
      "See the caveats in the documentation: http://pandas.pydata.org/pandas-docs/stable/indexing.html#indexing-view-versus-copy\n",
      "  \n",
      "/Users/philchodrow/Library/Python/3.7/lib/python/site-packages/ipykernel_launcher.py:9: SettingWithCopyWarning: \n",
      "A value is trying to be set on a copy of a slice from a DataFrame\n",
      "\n",
      "See the caveats in the documentation: http://pandas.pydata.org/pandas-docs/stable/indexing.html#indexing-view-versus-copy\n",
      "  if __name__ == '__main__':\n"
     ]
    }
   ],
   "source": [
    "df['stable'] = df.apply(lambda row: test_stable(row.n_1, row.s_1, row.s_2, n, row.beta), axis = 1)\n",
    "\n",
    "# fudge factors for numerical issues in stability calculation\n",
    "\n",
    "ix = df.s_1 > .8\n",
    "df.stable[ix] = True\n",
    "\n",
    "df.stable[(np.abs(df.s_1 - .1) > .005) & (np.abs(df.s_1 - .1) < .5)] = False\n",
    "df.stable[(df.beta < 2*np.sqrt(10)-.00001) & (np.abs(df.s_1 - .1) < .0000000000000)] = True\n",
    "\n",
    "\n",
    "\n",
    "# remove some spurious solutions\n"
   ]
  },
  {
   "cell_type": "code",
   "execution_count": 12,
   "metadata": {},
   "outputs": [
    {
     "data": {
      "image/png": "[encoded data removed]",
      "text/plain": [
       "<Figure size 432x288 with 1 Axes>"
      ]
     },
     "metadata": {
      "needs_background": "light"
     },
     "output_type": "display_data"
    }
   ],
   "source": [
    "colors = ['lightgrey', 'black']\n",
    "p = df.groupby(['n_1','group', 'stable']).apply(lambda g: plt.plot(g.beta, g.s_1, zorder = 1, color = colors[int(g.stable.max())]))\n",
    "p = df.groupby(['n_1','group', 'stable']).apply(lambda g: plt.plot(g.beta, g.s_2, zorder = 1, color = colors[int(g.stable.max())]))\n",
    "\n",
    "# ix = df.s_1 > .9\n",
    "\n",
    "# plt.plot(df.beta[ix], df.s_1[ix], zorder = 1, color = 'black')\n",
    "# plt.plot(df.beta[ix], df.s_2[ix], zorder = 1, color = 'black')"
   ]
  },
  {
   "cell_type": "code",
   "execution_count": 13,
   "metadata": {},
   "outputs": [],
   "source": [
    "df.to_csv('throughput/degree_score_curves.csv', index = False)"
   ]
  },
  {
   "cell_type": "code",
   "execution_count": null,
   "metadata": {},
   "outputs": [],
   "source": []
  }
 ],
 "metadata": {
  "kernelspec": {
   "display_name": "Python 3",
   "language": "python",
   "name": "python3"
  },
  "language_info": {
   "codemirror_mode": {
    "name": "ipython",
    "version": 3
   },
   "file_extension": ".py",
   "mimetype": "text/x-python",
   "name": "python",
   "nbconvert_exporter": "python",
   "pygments_lexer": "ipython3",
   "version": "3.7.2"
  }
 },
 "nbformat": 4,
 "nbformat_minor": 2
}
