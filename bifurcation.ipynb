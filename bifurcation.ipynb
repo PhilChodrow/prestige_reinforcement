{
 "cells": [
  {
   "cell_type": "markdown",
   "metadata": {},
   "source": [
    "# Prestige Reinforcement Dynamics\n",
    "\n",
    "This notebook provides a simple version of an asynchronous model of prestige-reinforcement in networked endorsement dynamics, as exemplified by the faculty hiring process. \n",
    "\n",
    "This notebook is intentionally designed to expose all calculations, so all functions etc. (other than SpringRank) are defined in here directly. "
   ]
  },
  {
   "cell_type": "code",
   "execution_count": 2,
   "metadata": {},
   "outputs": [],
   "source": [
    "# Load the required packages\n",
    "# import pandas as pd\n",
    "import numpy as np\n",
    "import SpringRank as sr\n",
    "# from itertools import chain\n",
    "import matplotlib.pyplot as plt\n",
    "from py import estimation\n",
    "%matplotlib inline"
   ]
  },
  {
   "cell_type": "markdown",
   "metadata": {},
   "source": [
    "First, we'll define the function that takes in a matrix and returns the vector $\\gamma$ of hiring probabilities. In our model instantiation, we compute this in two steps: \n",
    "\n",
    "1. $\\phi:\\mathbf{A} \\mapsto s\\in \\mathbb{R}^n$ is the *SpringRank* functional that gives each node $i$ a rank $s_i$. \n",
    "2. Then, the hiring probability (probability that node $i$ is selected to be hired in the current timestep) is $\\gamma_i = \\frac{e^{\\beta s_i}}{\\sum_\\ell e^{\\beta s_\\ell}}$, where $\\beta \\in \\mathbb{R}$ is a model parameter. "
   ]
  },
  {
   "cell_type": "code",
   "execution_count": 4,
   "metadata": {},
   "outputs": [],
   "source": [
    "# def compute_gamma(A, beta):\n",
    "    \n",
    "#     # ignore some warning messages surfaced by SpringRank\n",
    "#     np.seterr(divide='ignore', invalid='ignore') \n",
    "    \n",
    "#     # compute springranks\n",
    "#     phi = sr.get_ranks(A)\n",
    "    \n",
    "#     # exponentiate\n",
    "#     gamma = np.exp(beta * phi)\n",
    "    \n",
    "#     # normalize\n",
    "#     gamma = gamma / gamma.sum()\n",
    "    \n",
    "#     return(gamma)    "
   ]
  },
  {
   "cell_type": "markdown",
   "metadata": {},
   "source": [
    "Next, we'll run the model dynamics. The `simulate` function implements both stochastic (real) and deterministic (approximate) versions of our dynamics. The `stochastic` method actually describes the model that we are working with: at each timestep $t$, a uniformly random department $j$ hires a candidate from department $i$ with probability proportional to $\\gamma_i$. The hiring matrix is then updated by the equation $\\mathbf{A}_{t+1} = \\lambda \\mathbf{A}_{t} + (1-\\lambda)\\mathbf{E}_{ij}$. In this expression, $\\lambda \\in [0,1]$ is a memory parameter. \n",
    "\n",
    "The `deterministic` method instead runs the dynamics $\\hat{\\mathbf{A}}_{t+1} = \\lambda \\hat{\\mathbf{A}}_{t} + (1-\\lambda)\\mathbf{G}$, where $\\mathbf{G}$ is the *expectation* of $\\mathbf{E}_{ij}$ with respect to the probability distribution over $i$ and $j$. \n",
    "\n",
    "Other parameters of the `simulate` function include the number of departments $n$, prestige preference $\\beta$, memory $\\lambda$, number of rounds `n_rounds` over which to simulate; how frequently to update the SpringRanks (they can be slow for large numbers of departments), and an optional initial condition. \n",
    "\n",
    "This code is not at all optimized -- much faster versions may be possible. "
   ]
  },
  {
   "cell_type": "code",
   "execution_count": 26,
   "metadata": {},
   "outputs": [],
   "source": [
    "\n",
    "# # construct the initial condition and container for trajectories\n",
    "def initialize(n, n_rounds = 1, A0 = None):\n",
    "    if A0 is None:\n",
    "        A = np.ones((n,n))\n",
    "    else:\n",
    "        A = A0\n",
    "    GAMMA = np.zeros((n_rounds, n))\n",
    "    \n",
    "    return(A, GAMMA)\n",
    "    \n",
    "# construct the increment to add to the current state. Either stochastic or deterministic. \n",
    "# def increment(n, gamma, method = 'stochastic'):\n",
    "    \n",
    "#     if method == 'stochastic':\n",
    "#         j = np.random.randint(n)           # uniformly random department gets to hire\n",
    "#         i = np.random.choice(n, p = gamma) # chooses from departments proportional to $\\gamma$. \n",
    "#         E = np.zeros((n,n))\n",
    "#         E[i,j] = 1\n",
    "#         return(E)\n",
    "    \n",
    "#     elif method == 'deterministic': \n",
    "#         G = np.tile(gamma, (n,1)).T        # G is the expectation of E above \n",
    "#         return(G)\n",
    "    \n",
    "def simulate(n, beta, lam, n_rounds, method = 'stochastic', update_interval = 1, A0 = None):\n",
    "    A, GAMMA = initialize(n, n_rounds, A0)\n",
    "    \n",
    "    for r in range(n_rounds):          \n",
    "        if r % update_interval == 0:                    # update the springranks at this interval\n",
    "            gamma = estimation.compute_gamma(A, beta)\n",
    "            \n",
    "        GAMMA[r,:] = gamma                              # record current gamma\n",
    "        A = lam*A + (1-lam)*estimation.increment(n, gamma, method) # update A\n",
    "        \n",
    "    return(GAMMA)"
   ]
  },
  {
   "cell_type": "markdown",
   "metadata": {},
   "source": [
    "Here's a simple example using the stochastic (real) simulation: "
   ]
  },
  {
   "cell_type": "code",
   "execution_count": 85,
   "metadata": {},
   "outputs": [
    {
     "data": {
      "image/png": "[encoded data removed]",
      "text/plain": [
       "<Figure size 432x288 with 1 Axes>"
      ]
     },
     "metadata": {
      "needs_background": "light"
     },
     "output_type": "display_data"
    }
   ],
   "source": [
    "n = 2\n",
    "A0 = np.ones((n,n))\n",
    "A0[1,0] += 1\n",
    "\n",
    "GAMMA = simulate(n = n, \n",
    "                 beta = 2, \n",
    "                 lam = .98, \n",
    "                 n_rounds = 1000, \n",
    "                 method = 'deterministic', \n",
    "                 update_interval = 1,\n",
    "                 A0 = A0)\n",
    "\n",
    "for i in range(n):\n",
    "    plt.plot(GAMMA[:,i])"
   ]
  },
  {
   "cell_type": "code",
   "execution_count": 88,
   "metadata": {},
   "outputs": [],
   "source": [
    "resolution = 101\n",
    "BETAS = np.linspace(0, 5, resolution)\n",
    "sols = np.zeros((resolution, n))\n",
    "for i in range(resolution):\n",
    "\n",
    "    A0 = np.ones((n,n))\n",
    "    if BETAS[i] < 2:\n",
    "        A0[1,0] += .001\n",
    "    else:\n",
    "        A0[1,0] += 5\n",
    "        \n",
    "    GAMMA = simulate(n = n, \n",
    "                 beta = BETAS[i], \n",
    "                 lam = .98, \n",
    "                 n_rounds = 1000, \n",
    "                 method = 'deterministic', \n",
    "                 update_interval = 1,\n",
    "                 A0 = A0)\n",
    "    sols[i] = GAMMA[-1]"
   ]
  },
  {
   "cell_type": "code",
   "execution_count": 112,
   "metadata": {},
   "outputs": [
    {
     "data": {
      "image/png": "[encoded data removed]",
      "text/plain": [
       "<Figure size 432x288 with 1 Axes>"
      ]
     },
     "metadata": {
      "needs_background": "light"
     },
     "output_type": "display_data"
    }
   ],
   "source": [
    "fig = plt.figure()\n",
    "ax = fig.add_subplot(111)\n",
    "ax.plot(BETAS, np.repeat(1/n, resolution), color = 'black', linestyle = 'dashed')\n",
    "\n",
    "for j in range(n):\n",
    "    ax.plot(BETAS, sols[:,j], color = 'black')\n",
    "\n",
    "# ax.axis('off')\n",
    "ax.spines['top'].set_visible(False)\n",
    "ax.spines['right'].set_visible(False)\n",
    "ax.spines['bottom'].set_color('darkslategray')\n",
    "ax.spines['left'].set_color('darkslategray')\n",
    "ax.tick_params(axis='x', colors='darkslategray')\n",
    "ax.tick_params(axis='y', colors='darkslategray')\n",
    "\n",
    "ax.set(xlabel = r'$\\beta$', ylabel = r'$\\gamma$')\n",
    "plt.savefig('fig/bifurcation.png', dpi = 300)"
   ]
  },
  {
   "cell_type": "code",
   "execution_count": null,
   "metadata": {},
   "outputs": [],
   "source": []
  }
 ],
 "metadata": {
  "kernelspec": {
   "display_name": "Python 3",
   "language": "python",
   "name": "python3"
  },
  "language_info": {
   "codemirror_mode": {
    "name": "ipython",
    "version": 3
   },
   "file_extension": ".py",
   "mimetype": "text/x-python",
   "name": "python",
   "nbconvert_exporter": "python",
   "pygments_lexer": "ipython3",
   "version": "3.7.2"
  }
 },
 "nbformat": 4,
 "nbformat_minor": 2
}
