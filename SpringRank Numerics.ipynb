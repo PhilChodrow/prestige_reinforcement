{
 "cells": [
  {
   "cell_type": "code",
   "execution_count": 1,
   "metadata": {},
   "outputs": [],
   "source": [
    "import numpy as np\n",
    "from numba import jit\n",
    "\n",
    "from py.model import *\n",
    "from py.scores import *\n",
    "\n",
    "import pandas as pd\n",
    "# from SpringRank import SpringRank\n",
    "\n",
    "from matplotlib import pyplot as plt\n",
    "\n",
    "from scipy.optimize import root, minimize, approx_fprime\n",
    "from scipy.optimize.slsqp import approx_jacobian\n",
    "from itertools import product\n",
    "\n",
    "from autograd import jacobian\n",
    "\n",
    "\n",
    "import matplotlib\n",
    "matplotlib.rcParams['font.sans-serif'] = \"Arial Unicode MS\""
   ]
  },
  {
   "cell_type": "code",
   "execution_count": 2,
   "metadata": {},
   "outputs": [],
   "source": [
    "def compute_gamma(s, beta):\n",
    "    gamma = np.exp(beta*s)\n",
    "    gamma = gamma/gamma.sum()\n",
    "    return(gamma)\n",
    "\n",
    "def make_s(s_1, s_2, n_1, n):\n",
    "        \n",
    "    s_1 = s_1\n",
    "    s_2 = s_2\n",
    "    \n",
    "    n_1 = int(n_1)\n",
    "    n_2 = n - n_1\n",
    "    \n",
    "    s = np.zeros(n)\n",
    "    s[0:n_1] += 1*s_1\n",
    "    s[n_1:n] += 1*s_2\n",
    "    return(s)\n",
    "\n",
    "def make_gamma(s_1, s_2, n_1, n, beta):\n",
    "    s = make_s(s_1, s_2, n_1, n)\n",
    "\n",
    "    return(compute_gamma(s, beta)) # for root-degree score"
   ]
  },
  {
   "cell_type": "code",
   "execution_count": 3,
   "metadata": {},
   "outputs": [
    {
     "name": "stderr",
     "output_type": "stream",
     "text": [
      "/Users/philchodrow/Library/Python/3.7/lib/python/site-packages/ipykernel_launcher.py:12: FutureWarning: Sorting because non-concatenation axis is not aligned. A future version\n",
      "of pandas will change to not sort by default.\n",
      "\n",
      "To accept the future behavior, pass 'sort=False'.\n",
      "\n",
      "To retain the current behavior and silence the warning, pass 'sort=True'.\n",
      "\n",
      "  if sys.path[0] == '':\n"
     ]
    }
   ],
   "source": [
    "df_SR = pd.read_csv('numerics/data_n_8.csv',\n",
    "                   names=[\"n_1\", \"n_2\", \"beta\", \"s_1\", \"s_2\"]) # springRank\n",
    "padding = pd.DataFrame(\n",
    "    list(product(np.linspace(0,2, 21),\n",
    "    [0], \n",
    "    [0], \n",
    "    [8],\n",
    "                 [0],\n",
    "    [1])),\n",
    "    columns = ['beta', 's_1', 's_2', 'n_1', 'n_2', 'group']\n",
    ")\n",
    "df_SR = pd.concat((padding, df_SR), axis = 0)\n",
    "\n",
    "# need to pad to add unstable egalitarian solution\n",
    "\n",
    "padding = pd.DataFrame(\n",
    "    list(product(np.linspace(2,10, 21),\n",
    "    [0], \n",
    "    [0], \n",
    "    [8], \n",
    "                 [0],\n",
    "    [1])),\n",
    "    columns = ['beta', 's_1', 's_2', 'n_1', 'n_2', 'group']\n",
    ")\n",
    "\n",
    "df_SR = pd.concat((padding, df_SR), axis = 0, sort=True)"
   ]
  },
  {
   "cell_type": "code",
   "execution_count": 4,
   "metadata": {},
   "outputs": [
    {
     "data": {
      "text/plain": [
       "8"
      ]
     },
     "execution_count": 4,
     "metadata": {},
     "output_type": "execute_result"
    }
   ],
   "source": [
    "max(df_SR.n_1)"
   ]
  },
  {
   "cell_type": "code",
   "execution_count": 5,
   "metadata": {},
   "outputs": [],
   "source": [
    "n = 8\n",
    "m = 1\n",
    "alpha = 10**(-5)\n",
    "\n",
    "# likely need to troubleshoot this, esp. copies of n^{-1} and sign errors. \n",
    "# def f(s_1, s_2, n_1, n, beta):\n",
    "    \n",
    "#     s = make_s(s_1, s_2, n_1, n)\n",
    "#     gamma = make_gamma(s_1, s_2, n_1, n, beta)\n",
    "    \n",
    "#     G = np.tile(gamma, (n,1))\n",
    "#     L_G = 1.0/n*(np.eye(n) + np.diag(gamma) - (G + G.T))\n",
    "    \n",
    "#     out = -alpha*s - m*(1.0/n*L_G.dot(s) - (1.0/n*np.ones(n) - gamma))\n",
    "    \n",
    "#     return(out)"
   ]
  },
  {
   "cell_type": "code",
   "execution_count": 6,
   "metadata": {},
   "outputs": [],
   "source": [
    "def f_(s, n, beta):\n",
    "    \n",
    "    gamma = compute_gamma(s, beta)\n",
    "    \n",
    "    G = np.tile(gamma, (n,1))\n",
    "    L_G = (np.eye(n) + n*np.diag(gamma) - (G + G.T))\n",
    "    \n",
    "    out = alpha*s + (1.0/n*L_G.dot(s) + (1.0/n*np.ones(n) - gamma))\n",
    "    \n",
    "    return(out)\n",
    "\n",
    "def jac_(s,  n, beta):\n",
    "    J = np.zeros((n,n))\n",
    "    for i in range(n):\n",
    "        J[i,:] = approx_fprime(\n",
    "            s, \n",
    "            f = lambda s: f_(s, n, beta)[i],\n",
    "            epsilon=.0000001\n",
    "        )\n",
    "    return(J)\n",
    "\n",
    "def restricted_jac(n, beta):\n",
    "    \"\"\"\n",
    "    this one appears to check out. Note the normalizations\n",
    "    \"\"\"\n",
    "    I = np.eye(n)\n",
    "    E = np.ones((n,n))\n",
    "    L_G = 2*(I - 1.0/n*E)\n",
    "    return(alpha*I + (1/n*L_G - beta/n*(I - 1.0/n*E)))"
   ]
  },
  {
   "cell_type": "code",
   "execution_count": 7,
   "metadata": {},
   "outputs": [],
   "source": [
    "def test_stable(s_1, s_2, n_1, n, beta):\n",
    "    s = make_s(s_1, s_2, int(n_1), n)\n",
    "    J = jac_(s, n, beta)\n",
    "    eig = np.real(np.linalg.eig(J)[0]).min()\n",
    "    return(eig>0)"
   ]
  },
  {
   "cell_type": "code",
   "execution_count": 8,
   "metadata": {},
   "outputs": [],
   "source": [
    "df_SR['stable'] = df_SR.apply(lambda row: test_stable(row.s_1, row.s_2, row.n_1,  n, row.beta), axis = 1)\n",
    "# _SR['test_f'] = df_SR.apply(lambda row: f(row.n_1, row.s_1, row.s_2, n, row.beta)[0], axis = 1)"
   ]
  },
  {
   "cell_type": "code",
   "execution_count": 9,
   "metadata": {},
   "outputs": [],
   "source": [
    "df_SR.to_csv('throughput/springrank_score_curves.csv', index = False)"
   ]
  },
  {
   "cell_type": "code",
   "execution_count": 10,
   "metadata": {},
   "outputs": [
    {
     "data": {
      "text/plain": [
       "<matplotlib.colorbar.Colorbar at 0x7fce11780d68>"
      ]
     },
     "execution_count": 10,
     "metadata": {},
     "output_type": "execute_result"
    },
    {
     "data": {
      "image/png": "[encoded data removed]",
      "text/plain": [
       "<Figure size 432x288 with 2 Axes>"
      ]
     },
     "metadata": {
      "needs_background": "light"
     },
     "output_type": "display_data"
    }
   ],
   "source": [
    "im = plt.scatter(df_SR.beta, df_SR.s_1, c = df_SR.stable>0)\n",
    "im = plt.scatter(df_SR.beta, df_SR.s_2, c = df_SR.stable>0)\n",
    "plt.colorbar(im)"
   ]
  },
  {
   "cell_type": "code",
   "execution_count": 11,
   "metadata": {},
   "outputs": [
    {
     "name": "stderr",
     "output_type": "stream",
     "text": [
      "/Users/philchodrow/Library/Python/3.7/lib/python/site-packages/ipykernel_launcher.py:5: SettingWithCopyWarning: \n",
      "A value is trying to be set on a copy of a slice from a DataFrame\n",
      "\n",
      "See the caveats in the documentation: http://pandas.pydata.org/pandas-docs/stable/indexing.html#indexing-view-versus-copy\n",
      "  \"\"\"\n"
     ]
    },
    {
     "data": {
      "text/plain": [
       "n_1  group\n",
       "1    -1       [Line2D(_line10)]\n",
       "      1       [Line2D(_line11)]\n",
       "2    -1       [Line2D(_line12)]\n",
       "      2       [Line2D(_line13)]\n",
       "3    -1       [Line2D(_line14)]\n",
       "      3       [Line2D(_line15)]\n",
       "4    -1       [Line2D(_line16)]\n",
       "      4       [Line2D(_line17)]\n",
       "5    -1       [Line2D(_line18)]\n",
       "6    -1       [Line2D(_line19)]\n",
       "7    -1       [Line2D(_line20)]\n",
       "8    -1       [Line2D(_line21)]\n",
       "dtype: object"
      ]
     },
     "execution_count": 11,
     "metadata": {},
     "output_type": "execute_result"
    },
    {
     "data": {
      "image/png": "[encoded data removed]",
      "text/plain": [
       "<Figure size 432x288 with 1 Axes>"
      ]
     },
     "metadata": {
      "needs_background": "light"
     },
     "output_type": "display_data"
    }
   ],
   "source": [
    "colors = ['lightgrey', 'black']\n",
    "p = df_SR.groupby(['n_1']).apply(lambda g: plt.plot(g.beta, g.s_1, zorder = 1, color = \"lightgrey\"))\n",
    "\n",
    "df_SR['group'] = df_SR.n_1\n",
    "df_SR['group'][df_SR.beta<2.00001] = -1\n",
    "df_SR[df_SR.stable].groupby(['n_1', 'group']).apply(lambda g: plt.plot(g.beta, g.s_1, zorder = 1, color = \"black\"))\n"
   ]
  },
  {
   "cell_type": "code",
   "execution_count": 12,
   "metadata": {},
   "outputs": [
    {
     "data": {
      "text/plain": [
       "[<matplotlib.lines.Line2D at 0x7fce1245c5f8>]"
      ]
     },
     "execution_count": 12,
     "metadata": {},
     "output_type": "execute_result"
    },
    {
     "data": {
      "image/png": "[encoded data removed]",
      "text/plain": [
       "<Figure size 432x288 with 1 Axes>"
      ]
     },
     "metadata": {
      "needs_background": "light"
     },
     "output_type": "display_data"
    }
   ],
   "source": [
    "plt.plot(df_SR.beta, df_SR.s_1)\n",
    "    "
   ]
  }
 ],
 "metadata": {
  "kernelspec": {
   "display_name": "Python 3",
   "language": "python",
   "name": "python3"
  },
  "language_info": {
   "codemirror_mode": {
    "name": "ipython",
    "version": 3
   },
   "file_extension": ".py",
   "mimetype": "text/x-python",
   "name": "python",
   "nbconvert_exporter": "python",
   "pygments_lexer": "ipython3",
   "version": "3.7.2"
  }
 },
 "nbformat": 4,
 "nbformat_minor": 2
}
