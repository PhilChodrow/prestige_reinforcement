{
 "cells": [
  {
   "cell_type": "markdown",
   "metadata": {},
   "source": [
    "# Figures with Dynamics\n",
    "\n",
    "This notebook is intended to provide figures relating to the *dynamics* of the models we are discussing. Figures related to *inference* are handled in separate notebooks for each data set. "
   ]
  },
  {
   "cell_type": "code",
   "execution_count": 17,
   "metadata": {},
   "outputs": [],
   "source": [
    "import numpy as np\n",
    "from numba import jit\n",
    "\n",
    "from py.model import *\n",
    "from py.scores import *\n",
    "\n",
    "import pandas as pd\n",
    "\n",
    "from matplotlib import pyplot as plt\n",
    "import matplotlib.patches as patches\n",
    "from matplotlib.patches import ConnectionPatch\n",
    "\n",
    "\n",
    "from itertools import product\n",
    "\n",
    "import matplotlib\n",
    "matplotlib.rcParams['font.sans-serif'] = \"Arial Unicode MS\""
   ]
  },
  {
   "cell_type": "markdown",
   "metadata": {},
   "source": [
    "# Setup: "
   ]
  },
  {
   "cell_type": "markdown",
   "metadata": {},
   "source": [
    "cset = ['#4477AA', '#EE6677', '#228833', '#CCBB44', '#66CCEE', '#AA3377']\n",
    "cset_muted = ['#CC6677', '#332288', '#DDCC77', '#117733', '#88CCEE', '#882255', '#44AA99', '#999933', '#AA4499', '#DDDDDD','#000000']"
   ]
  },
  {
   "cell_type": "markdown",
   "metadata": {},
   "source": [
    "# Read in pre-computed curves\n",
    "\n",
    "The first thing we're going to do is read in and standardize the format of the equilibrium and stability curves we have pre-computed for this task. "
   ]
  },
  {
   "cell_type": "code",
   "execution_count": 3,
   "metadata": {},
   "outputs": [],
   "source": [
    "# SpringRank: prepared by Mari\n",
    "df_SR = pd.read_csv('numerics/data_n_10.csv') # springRank\n",
    "df_SR['s_1'] = df_SR.s1\n",
    "df_SR['s_2'] = df_SR.s2\n",
    "df_SR['n_1'] = df_SR.n1\n",
    "df_SR['group'] = 1\n",
    "df_SR = df_SR.drop(['s1', 's2', 'n2', 'n1'], axis = 1)\n",
    "df_SR['stable'] = True"
   ]
  },
  {
   "cell_type": "code",
   "execution_count": 4,
   "metadata": {},
   "outputs": [],
   "source": [
    "# need to pad this one from zero to 2\n",
    "\n",
    "padding = pd.DataFrame(\n",
    "    list(product(np.linspace(0,2, 21),\n",
    "    [0], \n",
    "    [0], \n",
    "    [1], \n",
    "    [1], \n",
    "    [True])),\n",
    "    columns = ['beta', 's_1', 's_2', 'n_1', 'group', 'stable']\n",
    ")\n",
    "df_SR = pd.concat((padding, df_SR), axis = 0)\n",
    "\n",
    "# need to pad to add unstable egalitarian solution\n",
    "\n",
    "padding = pd.DataFrame(\n",
    "    list(product(np.linspace(2,10, 21),\n",
    "    [0], \n",
    "    [0], \n",
    "    [1], \n",
    "    [1], \n",
    "    [False])),\n",
    "    columns = ['beta', 's_1', 's_2', 'n_1', 'group', 'stable']\n",
    ")\n",
    "\n",
    "df_SR = pd.concat((padding, df_SR), axis = 0)"
   ]
  },
  {
   "cell_type": "code",
   "execution_count": 5,
   "metadata": {},
   "outputs": [],
   "source": [
    "df_deg = pd.read_csv('throughput/degree_score_curves.csv')\n",
    "df_EV = pd.read_csv('throughput/eigenvector_score_curves.csv')\n",
    "df_PR = pd.read_csv('throughput/pagerank_score_curves.csv')"
   ]
  },
  {
   "cell_type": "code",
   "execution_count": 6,
   "metadata": {},
   "outputs": [],
   "source": [
    "n = 10\n",
    "\n",
    "def compute_gamma(row, power = 1): \n",
    "    beta = row.beta\n",
    "    s_1 = row.s_1\n",
    "    s_2 = row.s_2\n",
    "    n_1 = row.n_1\n",
    "    n_2 = n - n_1\n",
    "    \n",
    "    v_1 = np.exp(beta*(s_1**power))\n",
    "    v_2 = np.exp(beta*(s_2**power))\n",
    "    \n",
    "    gamma_1 = np.array(v_1/(n_1*v_1 + n_2*v_2))\n",
    "    gamma_2 = np.array(v_2/(n_1*v_1 + n_2*v_2))\n",
    "    \n",
    "    return(pd.Series([gamma_1, gamma_2], index = ['gamma_1', 'gamma_2']))"
   ]
  },
  {
   "cell_type": "code",
   "execution_count": 7,
   "metadata": {},
   "outputs": [],
   "source": [
    "df_SR = pd.concat((df_SR, df_SR.apply(compute_gamma, result_type = 'expand', axis = 1)), axis = 1)\n",
    "df_deg = pd.concat((df_deg, df_deg.apply(compute_gamma, result_type = 'expand', axis = 1, power = 1/2)), axis = 1)\n",
    "df_EV = pd.concat((df_EV, df_EV.apply(compute_gamma, result_type = 'expand', axis = 1)), axis = 1)\n",
    "df_PR = pd.concat((df_PR, df_PR.apply(compute_gamma, result_type = 'expand', axis = 1)), axis = 1)"
   ]
  },
  {
   "cell_type": "code",
   "execution_count": 8,
   "metadata": {},
   "outputs": [],
   "source": [
    "labels = ['(a) SpringRank', '(b) SpringRank (Detail)', '(c) Root-Degree', '(d) PageRank']\n",
    "dfs = [df_SR, df_SR, df_deg, df_PR]\n",
    "instabilities = [2,2, 2*n**(1/2), n/0.85]\n",
    "emergence = [np.nan, np.nan, np.nan, np.nan]\n",
    "scores = [\n",
    "    lambda A: homebrew_SpringRank_score(A.T),\n",
    "    lambda A: homebrew_SpringRank_score(A.T),\n",
    "    lambda A: powered_degree_score(A, .5),\n",
    "    lambda A: PageRank_score(A, alpha = 0.85)\n",
    "]\n",
    "\n",
    "@jit(nopython=True)\n",
    "def linear_feature(s):\n",
    "    return(np.outer(np.ones(len(s)), s))"
   ]
  },
  {
   "cell_type": "code",
   "execution_count": null,
   "metadata": {},
   "outputs": [],
   "source": [
    "fig, axarr = plt.subplots(2,2, figsize = (8, 6))\n",
    "\n",
    "b_grid = 21\n",
    "\n",
    "BETA_VECS = [\n",
    "    np.linspace(0, 10, b_grid),\n",
    "    np.linspace(1.5, 4, b_grid),\n",
    "    np.linspace(0, 10, b_grid),\n",
    "    np.linspace(0, 20, b_grid)\n",
    "]\n",
    "\n",
    "lam = .9995\n",
    "n_rounds = 50000\n",
    "\n",
    "A0 = np.random.rand(n,n)\n",
    "A0 = A0/A0.sum()\n",
    "\n",
    "ax_mapper = {\n",
    "    (0,0): 0,\n",
    "    (0,1): 1,\n",
    "    (1,0): 2,\n",
    "    (1,1): 3\n",
    "}\n",
    "\n",
    "for i in range(2):\n",
    "    for j in range(2):\n",
    "        if (i,j) in ax_mapper.keys():\n",
    "            h = ax_mapper[(i,j)]\n",
    "        \n",
    "        \n",
    "        ax = axarr[i][j]\n",
    "        ax.spines['top'].set_visible(False)\n",
    "        ax.spines['right'].set_visible(False)\n",
    "\n",
    "        ax.set(xlabel = r'$\\beta$')\n",
    "        ax.set(ylabel = r'$\\gamma$')\n",
    "        \n",
    "        # BETAS = BETA_VECS[h]\n",
    "        df = dfs[h]\n",
    "\n",
    "        # df = df[df.beta <= BETAS.max()]\n",
    "        # df = df[df.beta >= BETAS.min()]\n",
    "            \n",
    "        p = df.groupby(['n_1','group', 'stable']).apply(lambda g: ax.plot(g.beta, g.gamma_1, \n",
    "                                                                        zorder = 1,\n",
    "                                                                        color = 'lightgrey', \n",
    "                                                                        linewidth = 1))\n",
    "        \n",
    "        p = df.groupby(['n_1','group', 'stable']).apply(lambda g: ax.plot(g.beta, g.gamma_2, \n",
    "                                                                        zorder = 1, \n",
    "                                                                        color = 'lightgrey', \n",
    "                                                                        linewidth = 1))\n",
    "        \n",
    "        df_sub = df[df.stable]\n",
    "        \n",
    "        p = df_sub.groupby(['n_1','group', 'stable']).apply(lambda g: ax.plot(g.beta, g.gamma_1, \n",
    "                                                                        zorder = 1, \n",
    "                                                                        color = 'black', \n",
    "                                                                        linewidth = 1))\n",
    "        \n",
    "        p = df_sub.groupby(['n_1','group', 'stable']).apply(lambda g: ax.plot(g.beta, g.gamma_2, \n",
    "                                                                        zorder = 1, \n",
    "                                                                        color = 'black', \n",
    "                                                                        linewidth = 1))\n",
    "        \n",
    "        ax.set(title = labels[h])\n",
    "        ax.vlines(x = instabilities[h], ymin = 0, ymax = 1, linewidth = .5, linestyle = 'dashed')\n",
    "        ax.vlines(x = emergence[h], ymin = 0, ymax = 1, linewidth = .5, linestyle = 'dotted')\n",
    "    \n",
    "\n",
    "    \n",
    "        if h == 1:\n",
    "            print('whoa')\n",
    "            for k in range(V.shape[1]):\n",
    "                p = ax.scatter(BETAS, V[:,k], alpha = 1, s=20, zorder = 2, facecolors='none', edgecolors = cset[0])        \n",
    "        else:\n",
    "            BETAS = BETA_VECS[h]\n",
    "\n",
    "            M = model()\n",
    "            M.set_score(score_function = scores[h])\n",
    "            M.set_features([linear_feature])\n",
    "\n",
    "            V = np.zeros((b_grid, n))\n",
    "\n",
    "            for ell in range(b_grid):\n",
    "                M.simulate(beta = np.array([BETAS[ell]]), \n",
    "                                    lam = lam, \n",
    "                                    A0 = A0, \n",
    "                                    n_rounds = n_rounds, \n",
    "                                    update = stochastic_update, \n",
    "                                    m_updates = 1)\n",
    "                \n",
    "                GAMMA = M.get_rates()\n",
    "                GAMMA = np.sort(GAMMA, axis = 2)\n",
    "                V[ell] = GAMMA[(-5000):(-1)].mean(axis = (0,1))\n",
    "\n",
    "            for k in range(V.shape[1]):\n",
    "                p = ax.scatter(BETAS, V[:,k], alpha = 1, s=20, zorder = 2, facecolors='none', edgecolors = cset[0])\n",
    "\n",
    "axarr[0][1].set(xlim = (1.5, 4.0))\n",
    "\n",
    "axarr[0][1].set(ylim = (0, 0.5))\n",
    "\n",
    "axarr[0][1].spines['bottom'].set_visible(False)\n",
    "axarr[0][1].spines['left'].set_visible(False)\n",
    "axarr[0][1].tick_params(bottom=\"off\", left=\"off\")\n",
    "\n",
    "axarr[0][1].set_xticklabels([])\n",
    "axarr[0][1].set_yticklabels([])\n",
    "axarr[0][1].axes.get_yaxis().set_visible(False)\n",
    "axarr[0][1].axes.get_xaxis().set_visible(False)\n",
    "\n",
    "rect = patches.Rectangle((1.5,0),3.5,.5, linewidth=1, edgecolor='none', linestyle='dashed',facecolor='slategray', alpha = .05)\n",
    "axarr[0][0].add_patch(rect)\n",
    "# axarr[0][1].axis('off')\n",
    "axarr[0][1].set_facecolor((0.4375, 0.5   , 0.5625, 0.05))\n",
    "\n",
    "\n",
    "\n",
    "con1 = ConnectionPatch(xyA=(1.5, 0.5), xyB=(1.5, 0.5), coordsA=\"data\", coordsB=\"data\",\n",
    "                      axesA=axarr[0][0], axesB=axarr[0][1], color=\"black\", linewidth=.2, alpha = 1)\n",
    "con2 = ConnectionPatch(xyA=(4.0, 0.0), xyB=(1.5, 0.0), coordsA=\"data\", coordsB=\"data\",\n",
    "                      axesA=axarr[0][0], axesB=axarr[0][1], color=\"black\", linewidth=.2, alpha = 1)\n",
    "\n",
    "axarr[0][0].add_artist(con1)\n",
    "axarr[0][0].add_artist(con2)\n",
    "\n",
    "plt.tight_layout()\n",
    "plt.savefig('fig/bifurcations_with_curves.png', dpi = 300, bbox_inches = 'tight')"
   ]
  },
  {
   "cell_type": "code",
   "execution_count": 49,
   "metadata": {},
   "outputs": [
    {
     "data": {
      "text/plain": [
       "array([0.4375, 0.5   , 0.5625])"
      ]
     },
     "execution_count": 49,
     "metadata": {},
     "output_type": "execute_result"
    }
   ],
   "source": [
    "np.array([112,128, 144]) / 256"
   ]
  },
  {
   "cell_type": "code",
   "execution_count": null,
   "metadata": {},
   "outputs": [],
   "source": []
  }
 ],
 "metadata": {
  "kernelspec": {
   "display_name": "Python 3.7.2 64-bit",
   "language": "python",
   "name": "python37264bit9171f975fd2046899614067b4bf98c91"
  },
  "language_info": {
   "codemirror_mode": {
    "name": "ipython",
    "version": 3
   },
   "file_extension": ".py",
   "mimetype": "text/x-python",
   "name": "python",
   "nbconvert_exporter": "python",
   "pygments_lexer": "ipython3",
   "version": "3.7.2"
  }
 },
 "nbformat": 4,
 "nbformat_minor": 2
}
