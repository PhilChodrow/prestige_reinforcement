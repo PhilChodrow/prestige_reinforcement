{
 "cells": [
  {
   "cell_type": "markdown",
   "metadata": {},
   "source": [
    "# Prestige Reinforcement Dynamics\n",
    "\n",
    "This notebook provides a simple version of an asynchronous model of prestige-reinforcement in networked endorsement dynamics, as exemplified by the faculty hiring process. \n",
    "\n",
    "This notebook is intentionally designed to expose all calculations, so all functions etc. (other than SpringRank) are defined in here directly. "
   ]
  },
  {
   "cell_type": "code",
   "execution_count": 1,
   "metadata": {},
   "outputs": [],
   "source": [
    "import numpy as np\n",
    "from numba import jit\n",
    "\n",
    "from py.model import *\n",
    "from py.scores import *\n",
    "\n",
    "# from SpringRank import SpringRank\n",
    "\n",
    "from matplotlib import pyplot as plt\n",
    "\n",
    "import matplotlib\n",
    "matplotlib.rcParams['font.sans-serif'] = \"Arial Unicode MS\""
   ]
  },
  {
   "cell_type": "code",
   "execution_count": 2,
   "metadata": {},
   "outputs": [],
   "source": [
    "# Params\n",
    "\n",
    "n = 5\n",
    "n_rounds = 5000\n",
    "m_updates = 1\n",
    "A = np.sqrt(np.random.rand(n,n))\n",
    "A0 = A/A.sum()\n",
    "lam = .995"
   ]
  },
  {
   "cell_type": "code",
   "execution_count": 44,
   "metadata": {},
   "outputs": [],
   "source": [
    "scores = {\n",
    "    'SpringRank': lambda A: homebrew_SpringRank_score(A.T),\n",
    "    'Root-Degree' : lambda A: powered_degree_score(A, 1/2), \n",
    "    'PageRank': PageRank_score,\n",
    "    'Fiedler Vector' : lambda A: fiedler_vector_score(A)\n",
    "}\n",
    "\n",
    "# features\n",
    "\n",
    "linear_feature = lambda s: np.tile(s,(len(s), 1))"
   ]
  },
  {
   "cell_type": "markdown",
   "metadata": {},
   "source": [
    "# Detailed Transition in SpringRank Case"
   ]
  },
  {
   "cell_type": "code",
   "execution_count": 36,
   "metadata": {},
   "outputs": [],
   "source": [
    "n = 10\n",
    "\n",
    "A0 = np.random.rand(n,n)\n",
    "A0 = A0/A0.sum()\n",
    "\n",
    "lam = .9\n",
    "n_rounds = 5000\n",
    "\n",
    "b_grid = 101\n",
    "BETAS = np.linspace(1,6, b_grid)\n",
    "\n",
    "V = np.zeros((b_grid, n))\n",
    "\n",
    "M = model()\n",
    "M.set_score(score_function = lambda A: homebrew_SpringRank_score(A.T))\n",
    "M.set_features([linear_feature])\n",
    "\n",
    "for j in range(b_grid):\n",
    "\n",
    "    M.simulate(beta = np.array([BETAS[j]]), \n",
    "                       lam = lam, \n",
    "                       A0 = A0, \n",
    "                       n_rounds = n_rounds, \n",
    "                       update = deterministic_update, \n",
    "                       m_updates = m_updates)\n",
    "    GAMMA = M.get_rates()\n",
    "    GAMMA = np.sort(GAMMA, axis = 2)\n",
    "    V[j] = GAMMA[(-1000):(-1)].mean(axis = (0,1))"
   ]
  },
  {
   "cell_type": "code",
   "execution_count": 37,
   "metadata": {},
   "outputs": [
    {
     "data": {
      "image/png": "[encoded data removed]",
      "text/plain": [
       "<Figure size 432x288 with 1 Axes>"
      ]
     },
     "metadata": {
      "needs_background": "light"
     },
     "output_type": "display_data"
    }
   ],
   "source": [
    "fig = plt.figure()\n",
    "ax = fig.add_subplot(111)\n",
    "\n",
    "for i in range(V.shape[1]):\n",
    "    p = ax.scatter(BETAS, V[:,i], color = 'firebrick', alpha = 0.5, s=2)\n",
    "\n",
    "ax.vlines(x = 2, ymin = 0, ymax = 1, linestyle = 'dashed', linewidth = 1, color = 'grey')    \n",
    "\n",
    "ax.spines['top'].set_visible(False)\n",
    "ax.spines['right'].set_visible(False)\n",
    "plt.savefig('fig/SR_bifurcation_detail.png', bbox_inches = 'tight')"
   ]
  },
  {
   "cell_type": "markdown",
   "metadata": {},
   "source": [
    "# Other Bifurcations"
   ]
  },
  {
   "cell_type": "code",
   "execution_count": 39,
   "metadata": {},
   "outputs": [],
   "source": [
    "transition_predictions = {\n",
    "    'SpringRank': 2, \n",
    "    'Root-Degree': 2*n**(1/2),\n",
    "    'Fiedler Vector': 0\n",
    "}"
   ]
  },
  {
   "cell_type": "code",
   "execution_count": null,
   "metadata": {},
   "outputs": [],
   "source": [
    "b_grid = 201\n",
    "\n",
    "n_rounds = 10000\n",
    "\n",
    "n = 10\n",
    "A0 = np.random.rand(n,n)\n",
    "A0 = A0/A0.sum()\n",
    "\n",
    "BETAS = {\n",
    "    'SpringRank' : np.linspace(0, 10, b_grid), \n",
    "    'Root-Degree': np.linspace(0,10, b_grid),\n",
    "    'Fiedler Vector' : np.linspace(0,10,b_grid),\n",
    "}\n",
    "\n",
    "lam = .9\n",
    "\n",
    "score_names = ['SpringRank','Root-Degree', 'Fiedler Vector']\n",
    "\n",
    "k = len(score_names)\n",
    "\n",
    "fig, axarr = plt.subplots(1,k, figsize = (15, 3.5), sharey = True)\n",
    "\n",
    "for i in range(k):\n",
    "    \n",
    "    M = model()\n",
    "    M.set_score(score_function = scores[score_names[i]])\n",
    "    M.set_features([linear_feature])\n",
    "    \n",
    "    V = np.zeros((b_grid, n))\n",
    "    \n",
    "    for j in range(b_grid):\n",
    "        M.simulate(beta = np.array([BETAS[score_names[i]][j]]), \n",
    "                   lam = lam, \n",
    "                   A0 = A0, \n",
    "                   n_rounds = n_rounds, \n",
    "                   update = deterministic_update, \n",
    "                   m_updates = m_updates)\n",
    "        GAMMA = M.get_rates()\n",
    "        GAMMA = np.sort(GAMMA, axis = 2)\n",
    "        V[j] = GAMMA[-1].mean(axis = 0)\n",
    "    \n",
    "    if k == 1:\n",
    "        ax = axarr\n",
    "    else:\n",
    "        ax = axarr[i]\n",
    "    \n",
    "    for j in range(V.shape[1]):\n",
    "        p = ax.scatter(BETAS[score_names[i]], V[:,j], color = 'firebrick', alpha = 0.5, s=1.5)\n",
    "\n",
    "#     p = ax.plot(BETAS[score_names[i]], V, color = 'grey', alpha = .5)\n",
    "    \n",
    "    v = ax.vlines(x = [transition_predictions[score_names[i]]], \n",
    "                        ymin = 0, \n",
    "                        ymax = 1, \n",
    "                        linewidth = 0.5, \n",
    "                        linestyle = 'dashed')\n",
    "    \n",
    "    t = ax.set_title(score_names[i])\n",
    "    \n",
    "    ax.spines['top'].set_visible(False)\n",
    "    ax.spines['right'].set_visible(False)\n",
    "    \n",
    "    ax.set(xlabel = r'$\\beta$')\n",
    "    \n",
    "    if i == 0:\n",
    "        ax.set(ylabel = r'$\\gamma$')\n",
    "    \n",
    "plt.savefig('fig/phase_transitions.png')"
   ]
  },
  {
   "cell_type": "code",
   "execution_count": 55,
   "metadata": {},
   "outputs": [
    {
     "data": {
      "text/plain": [
       "6.324555320336759"
      ]
     },
     "execution_count": 55,
     "metadata": {},
     "output_type": "execute_result"
    }
   ],
   "source": [
    "axarr[1].vlines(x = (n)**(1/2)/(1/2), ymin = 0, ymax = 1, )"
   ]
  },
  {
   "cell_type": "code",
   "execution_count": null,
   "metadata": {},
   "outputs": [],
   "source": [
    "n = 10\n",
    "\n",
    "lam = .99\n",
    "A0 = np.random.rand(n,n)\n",
    "A0 = A0/A0.sum()\n",
    "\n",
    "M = model()\n",
    "M.set_score(score_function = lambda A: katz_score(A, alpha = .5))\n",
    "M.set_features([linear_feature])\n",
    "n_rounds = 2000\n",
    "\n",
    "M.simulate(beta = np.array([17]), \n",
    "                   lam = lam, \n",
    "                   A0 = A0, \n",
    "                   n_rounds = n_rounds, \n",
    "                   update = deterministic_update, \n",
    "                   m_updates = m_updates)\n",
    "GAMMA = M.get_rates()\n",
    "# GAMMA = np.sort(GAMMA, axis = 2)\n",
    "\n",
    "p = plt.plot(GAMMA.mean(axis = 1), color = 'grey', alpha = .5)"
   ]
  },
  {
   "cell_type": "code",
   "execution_count": null,
   "metadata": {},
   "outputs": [],
   "source": []
  }
 ],
 "metadata": {
  "kernelspec": {
   "display_name": "Python 3",
   "language": "python",
   "name": "python3"
  },
  "language_info": {
   "codemirror_mode": {
    "name": "ipython",
    "version": 3
   },
   "file_extension": ".py",
   "mimetype": "text/x-python",
   "name": "python",
   "nbconvert_exporter": "python",
   "pygments_lexer": "ipython3",
   "version": "3.7.2"
  }
 },
 "nbformat": 4,
 "nbformat_minor": 2
}
