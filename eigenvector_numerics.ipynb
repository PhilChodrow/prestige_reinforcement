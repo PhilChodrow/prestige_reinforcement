{
 "cells": [
  {
   "cell_type": "code",
   "execution_count": 1,
   "metadata": {},
   "outputs": [],
   "source": [
    "import numpy as np\n",
    "from numba import jit\n",
    "\n",
    "from py.model import *\n",
    "from py.scores import *\n",
    "\n",
    "import pandas as pd\n",
    "# from SpringRank import SpringRank\n",
    "\n",
    "from matplotlib import pyplot as plt\n",
    "\n",
    "from scipy.optimize import root, minimize\n",
    "from scipy.optimize.slsqp import approx_jacobian\n",
    "from itertools import product\n",
    "\n",
    "from autograd import jacobian\n",
    "\n",
    "\n",
    "import matplotlib\n",
    "matplotlib.rcParams['font.sans-serif'] = \"Arial Unicode MS\""
   ]
  },
  {
   "cell_type": "code",
   "execution_count": 2,
   "metadata": {},
   "outputs": [],
   "source": [
    "cset = ['#4477AA', '#EE6677', '#228833', '#CCBB44', '#66CCEE', '#AA3377']\n",
    "cset_muted = ['#CC6677', '#332288', '#DDCC77', '#117733', '#88CCEE', '#882255', '#44AA99', '#999933', '#AA4499', '#DDDDDD','#000000']"
   ]
  },
  {
   "cell_type": "code",
   "execution_count": 3,
   "metadata": {},
   "outputs": [],
   "source": [
    "def compute_gamma(s, beta):\n",
    "    gamma = np.exp(beta*s)\n",
    "    gamma = gamma/gamma.sum()\n",
    "    return(gamma)\n",
    "\n",
    "def make_s(s_1, s_2, n_1, n):\n",
    "        \n",
    "    s_1 = s_1\n",
    "    s_2 = s_2\n",
    "    \n",
    "    n_1 = int(n_1)\n",
    "    n_2 = n - n_1\n",
    "    \n",
    "    s = np.zeros(n)\n",
    "    s[0:n_1] += 1*s_1\n",
    "    s[n_1:n] += 1*s_2\n",
    "#     s = s - (s.sum()-1)/n \n",
    "    return(s)\n",
    "\n",
    "def make_gamma(s_1, s_2, n_1, n, beta):\n",
    "    s = make_s(s_1, s_2, n_1, n)\n",
    "\n",
    "    return(compute_gamma(np.sqrt(s), beta)) # for root-degree score\n",
    "\n",
    "def f(s_1, s_2, n_1, n, beta, max_iters = 200, tol = 10**(-5)):\n",
    "    n = int(n)\n",
    "    s = make_s(s_1, s_2, n_1, n)\n",
    "    gamma = compute_gamma(s, beta)\n",
    "    \n",
    "    for i in range(max_iters):\n",
    "        s_old = s.copy()\n",
    "        gamma = compute_gamma(s, beta)\n",
    "        G = np.tile(gamma, (n,1))\n",
    "        eigs = np.linalg.eig(G.T)\n",
    "        which_eig = np.argmax(np.abs(eigs[0]))\n",
    "        v = np.abs(eigs[1][:,which_eig])\n",
    "        s = v / np.sqrt((v**2).sum())\n",
    "        s = -np.sort(-s)\n",
    "        \n",
    "        # smoothing: \n",
    "        for i in range(n):\n",
    "            for j in range(n):\n",
    "                if np.abs(s[i] - s[j]) < 10**(-4):\n",
    "                    s[j] = s[i]\n",
    "        \n",
    "        if np.sqrt(((s - s_old)**2).sum()) < tol:\n",
    "            return(\n",
    "                pd.Series([s[0], s[-1]], index = ['s_1', 's_2'])\n",
    "            )\n",
    "    return(\n",
    "        pd.Series([s[0], s[-1]], index = ['s_1', 's_2'])\n",
    "    )\n",
    "        \n",
    "\n",
    "def g(row):\n",
    "    return(f(row.s_1_0, row.s_2_0, row.n_1, row.n, row.beta, max_iters = 5000, tol = 10**(-8)))     "
   ]
  },
  {
   "cell_type": "markdown",
   "metadata": {},
   "source": [
    "So, we'd like to organize this calculation in a nicer fashion. One way to do this will be to build up a data frame, sort on certain features, and then group them appropriately. We'll need iterators for n_1 and beta. We'll also need to allow for multiple solutions..."
   ]
  },
  {
   "cell_type": "markdown",
   "metadata": {},
   "source": [
    "# Compute the space of solutions"
   ]
  },
  {
   "cell_type": "code",
   "execution_count": 4,
   "metadata": {},
   "outputs": [],
   "source": [
    "BETA_GRID = np.linspace(0, 20, 501)\n",
    "n_1   = np.arange(1, 6)\n",
    "s1 = [1.1, 1.000001]\n",
    "s2 = [1]\n",
    "\n",
    "n = 10"
   ]
  },
  {
   "cell_type": "code",
   "execution_count": 8,
   "metadata": {},
   "outputs": [],
   "source": [
    "df = pd.DataFrame(list(product(BETA_GRID, n_1, s1, s2)), columns=['beta', 'n_1', 's_1_0', 's_2_0'])\n",
    "\n",
    "# df['s_1_0'] = 1.01\n",
    "# df['s_2_0'] = 1\n",
    "df['n'] = n\n",
    "\n",
    "df = pd.concat([df, df.apply(lambda row: g(row), \n",
    "                             axis = 1, \n",
    "                             result_type='expand')], \n",
    "               axis = 1) # compute a bunch of equilibria"
   ]
  },
  {
   "cell_type": "code",
   "execution_count": 12,
   "metadata": {},
   "outputs": [
    {
     "ename": "KeyError",
     "evalue": "\"['s_1_0' 's_2_0' 'n'] not found in axis\"",
     "output_type": "error",
     "traceback": [
      "\u001b[0;31m-----------------------------------------------------------------------\u001b[0m",
      "\u001b[0;31mKeyError\u001b[0m                              Traceback (most recent call last)",
      "\u001b[0;32m<ipython-input-12-d94c1e38e5c9>\u001b[0m in \u001b[0;36m<module>\u001b[0;34m\u001b[0m\n\u001b[1;32m     11\u001b[0m \u001b[0;31m# df['group_2'] = np.around((np.abs(df.s1 - df.s2)),1)\u001b[0m\u001b[0;34m\u001b[0m\u001b[0;34m\u001b[0m\u001b[0;34m\u001b[0m\u001b[0m\n\u001b[1;32m     12\u001b[0m \u001b[0;34m\u001b[0m\u001b[0m\n\u001b[0;32m---> 13\u001b[0;31m \u001b[0mdf\u001b[0m \u001b[0;34m=\u001b[0m \u001b[0mdf\u001b[0m\u001b[0;34m.\u001b[0m\u001b[0mdrop\u001b[0m\u001b[0;34m(\u001b[0m\u001b[0;34m[\u001b[0m\u001b[0;34m's_1_0'\u001b[0m\u001b[0;34m,\u001b[0m \u001b[0;34m's_2_0'\u001b[0m\u001b[0;34m,\u001b[0m \u001b[0;34m'n'\u001b[0m\u001b[0;34m]\u001b[0m\u001b[0;34m,\u001b[0m \u001b[0maxis\u001b[0m \u001b[0;34m=\u001b[0m \u001b[0;36m1\u001b[0m\u001b[0;34m)\u001b[0m\u001b[0;34m\u001b[0m\u001b[0;34m\u001b[0m\u001b[0m\n\u001b[0m\u001b[1;32m     14\u001b[0m \u001b[0;31m# df['nonegalitarian'] = (np.abs(df.s1 - df.s2) > .01)\u001b[0m\u001b[0;34m\u001b[0m\u001b[0;34m\u001b[0m\u001b[0;34m\u001b[0m\u001b[0m\n",
      "\u001b[0;32m/Library/Frameworks/Python.framework/Versions/3.7/lib/python3.7/site-packages/pandas/core/frame.py\u001b[0m in \u001b[0;36mdrop\u001b[0;34m(self, labels, axis, index, columns, level, inplace, errors)\u001b[0m\n\u001b[1;32m   3938\u001b[0m                                            \u001b[0mindex\u001b[0m\u001b[0;34m=\u001b[0m\u001b[0mindex\u001b[0m\u001b[0;34m,\u001b[0m \u001b[0mcolumns\u001b[0m\u001b[0;34m=\u001b[0m\u001b[0mcolumns\u001b[0m\u001b[0;34m,\u001b[0m\u001b[0;34m\u001b[0m\u001b[0;34m\u001b[0m\u001b[0m\n\u001b[1;32m   3939\u001b[0m                                            \u001b[0mlevel\u001b[0m\u001b[0;34m=\u001b[0m\u001b[0mlevel\u001b[0m\u001b[0;34m,\u001b[0m \u001b[0minplace\u001b[0m\u001b[0;34m=\u001b[0m\u001b[0minplace\u001b[0m\u001b[0;34m,\u001b[0m\u001b[0;34m\u001b[0m\u001b[0;34m\u001b[0m\u001b[0m\n\u001b[0;32m-> 3940\u001b[0;31m                                            errors=errors)\n\u001b[0m\u001b[1;32m   3941\u001b[0m \u001b[0;34m\u001b[0m\u001b[0m\n\u001b[1;32m   3942\u001b[0m     @rewrite_axis_style_signature('mapper', [('copy', True),\n",
      "\u001b[0;32m/Library/Frameworks/Python.framework/Versions/3.7/lib/python3.7/site-packages/pandas/core/generic.py\u001b[0m in \u001b[0;36mdrop\u001b[0;34m(self, labels, axis, index, columns, level, inplace, errors)\u001b[0m\n\u001b[1;32m   3778\u001b[0m         \u001b[0;32mfor\u001b[0m \u001b[0maxis\u001b[0m\u001b[0;34m,\u001b[0m \u001b[0mlabels\u001b[0m \u001b[0;32min\u001b[0m \u001b[0maxes\u001b[0m\u001b[0;34m.\u001b[0m\u001b[0mitems\u001b[0m\u001b[0;34m(\u001b[0m\u001b[0;34m)\u001b[0m\u001b[0;34m:\u001b[0m\u001b[0;34m\u001b[0m\u001b[0;34m\u001b[0m\u001b[0m\n\u001b[1;32m   3779\u001b[0m             \u001b[0;32mif\u001b[0m \u001b[0mlabels\u001b[0m \u001b[0;32mis\u001b[0m \u001b[0;32mnot\u001b[0m \u001b[0;32mNone\u001b[0m\u001b[0;34m:\u001b[0m\u001b[0;34m\u001b[0m\u001b[0;34m\u001b[0m\u001b[0m\n\u001b[0;32m-> 3780\u001b[0;31m                 \u001b[0mobj\u001b[0m \u001b[0;34m=\u001b[0m \u001b[0mobj\u001b[0m\u001b[0;34m.\u001b[0m\u001b[0m_drop_axis\u001b[0m\u001b[0;34m(\u001b[0m\u001b[0mlabels\u001b[0m\u001b[0;34m,\u001b[0m \u001b[0maxis\u001b[0m\u001b[0;34m,\u001b[0m \u001b[0mlevel\u001b[0m\u001b[0;34m=\u001b[0m\u001b[0mlevel\u001b[0m\u001b[0;34m,\u001b[0m \u001b[0merrors\u001b[0m\u001b[0;34m=\u001b[0m\u001b[0merrors\u001b[0m\u001b[0;34m)\u001b[0m\u001b[0;34m\u001b[0m\u001b[0;34m\u001b[0m\u001b[0m\n\u001b[0m\u001b[1;32m   3781\u001b[0m \u001b[0;34m\u001b[0m\u001b[0m\n\u001b[1;32m   3782\u001b[0m         \u001b[0;32mif\u001b[0m \u001b[0minplace\u001b[0m\u001b[0;34m:\u001b[0m\u001b[0;34m\u001b[0m\u001b[0;34m\u001b[0m\u001b[0m\n",
      "\u001b[0;32m/Library/Frameworks/Python.framework/Versions/3.7/lib/python3.7/site-packages/pandas/core/generic.py\u001b[0m in \u001b[0;36m_drop_axis\u001b[0;34m(self, labels, axis, level, errors)\u001b[0m\n\u001b[1;32m   3810\u001b[0m                 \u001b[0mnew_axis\u001b[0m \u001b[0;34m=\u001b[0m \u001b[0maxis\u001b[0m\u001b[0;34m.\u001b[0m\u001b[0mdrop\u001b[0m\u001b[0;34m(\u001b[0m\u001b[0mlabels\u001b[0m\u001b[0;34m,\u001b[0m \u001b[0mlevel\u001b[0m\u001b[0;34m=\u001b[0m\u001b[0mlevel\u001b[0m\u001b[0;34m,\u001b[0m \u001b[0merrors\u001b[0m\u001b[0;34m=\u001b[0m\u001b[0merrors\u001b[0m\u001b[0;34m)\u001b[0m\u001b[0;34m\u001b[0m\u001b[0;34m\u001b[0m\u001b[0m\n\u001b[1;32m   3811\u001b[0m             \u001b[0;32melse\u001b[0m\u001b[0;34m:\u001b[0m\u001b[0;34m\u001b[0m\u001b[0;34m\u001b[0m\u001b[0m\n\u001b[0;32m-> 3812\u001b[0;31m                 \u001b[0mnew_axis\u001b[0m \u001b[0;34m=\u001b[0m \u001b[0maxis\u001b[0m\u001b[0;34m.\u001b[0m\u001b[0mdrop\u001b[0m\u001b[0;34m(\u001b[0m\u001b[0mlabels\u001b[0m\u001b[0;34m,\u001b[0m \u001b[0merrors\u001b[0m\u001b[0;34m=\u001b[0m\u001b[0merrors\u001b[0m\u001b[0;34m)\u001b[0m\u001b[0;34m\u001b[0m\u001b[0;34m\u001b[0m\u001b[0m\n\u001b[0m\u001b[1;32m   3813\u001b[0m             \u001b[0mresult\u001b[0m \u001b[0;34m=\u001b[0m \u001b[0mself\u001b[0m\u001b[0;34m.\u001b[0m\u001b[0mreindex\u001b[0m\u001b[0;34m(\u001b[0m\u001b[0;34m**\u001b[0m\u001b[0;34m{\u001b[0m\u001b[0maxis_name\u001b[0m\u001b[0;34m:\u001b[0m \u001b[0mnew_axis\u001b[0m\u001b[0;34m}\u001b[0m\u001b[0;34m)\u001b[0m\u001b[0;34m\u001b[0m\u001b[0;34m\u001b[0m\u001b[0m\n\u001b[1;32m   3814\u001b[0m \u001b[0;34m\u001b[0m\u001b[0m\n",
      "\u001b[0;32m/Library/Frameworks/Python.framework/Versions/3.7/lib/python3.7/site-packages/pandas/core/indexes/base.py\u001b[0m in \u001b[0;36mdrop\u001b[0;34m(self, labels, errors)\u001b[0m\n\u001b[1;32m   4962\u001b[0m             \u001b[0;32mif\u001b[0m \u001b[0merrors\u001b[0m \u001b[0;34m!=\u001b[0m \u001b[0;34m'ignore'\u001b[0m\u001b[0;34m:\u001b[0m\u001b[0;34m\u001b[0m\u001b[0;34m\u001b[0m\u001b[0m\n\u001b[1;32m   4963\u001b[0m                 raise KeyError(\n\u001b[0;32m-> 4964\u001b[0;31m                     '{} not found in axis'.format(labels[mask]))\n\u001b[0m\u001b[1;32m   4965\u001b[0m             \u001b[0mindexer\u001b[0m \u001b[0;34m=\u001b[0m \u001b[0mindexer\u001b[0m\u001b[0;34m[\u001b[0m\u001b[0;34m~\u001b[0m\u001b[0mmask\u001b[0m\u001b[0;34m]\u001b[0m\u001b[0;34m\u001b[0m\u001b[0;34m\u001b[0m\u001b[0m\n\u001b[1;32m   4966\u001b[0m         \u001b[0;32mreturn\u001b[0m \u001b[0mself\u001b[0m\u001b[0;34m.\u001b[0m\u001b[0mdelete\u001b[0m\u001b[0;34m(\u001b[0m\u001b[0mindexer\u001b[0m\u001b[0;34m)\u001b[0m\u001b[0;34m\u001b[0m\u001b[0;34m\u001b[0m\u001b[0m\n",
      "\u001b[0;31mKeyError\u001b[0m: \"['s_1_0' 's_2_0' 'n'] not found in axis\""
     ]
    }
   ],
   "source": [
    "df = df.sort_values(['beta', 'n_1', 's_1'])\n",
    "df = df[df.s_1.notnull()]\n",
    "df['s_1'] = np.round(df.s_1, 3)\n",
    "df['s_2'] = np.round(df.s_2, 3)\n",
    "# df['s1'] = df[['s_1', 's_2']].max(axis = 1)\n",
    "# df['s2'] = df[['s_1', 's_2']].min(axis = 1)\n",
    "df = df.drop_duplicates(['n_1', 'beta', 's_1', 's_2'])\n",
    "# df = df.drop(['s_1', 's_2', 'rep'], axis = 1)\n",
    "df['group'] = df.groupby(['beta', 'n_1'])['s_1'].rank(method = 'first')\n",
    "\n",
    "# df['group_2'] = np.around((np.abs(df.s1 - df.s2)),1) \n",
    "\n",
    "df = df.drop(['s_1_0', 's_2_0', 'n'], axis = 1)\n",
    "# df['nonegalitarian'] = (np.abs(df.s1 - df.s2) > .01)"
   ]
  },
  {
   "cell_type": "code",
   "execution_count": 11,
   "metadata": {},
   "outputs": [
    {
     "data": {
      "image/png": "[encoded data removed]",
      "text/plain": [
       "<Figure size 432x288 with 1 Axes>"
      ]
     },
     "metadata": {
      "needs_background": "light"
     },
     "output_type": "display_data"
    }
   ],
   "source": [
    "p = df.groupby(['n_1',  'group']).apply(lambda g: plt.plot(g.beta, g.s_1, color = 'lightgrey', zorder = 1))\n",
    "p = df.groupby(['n_1',  'group']).apply(lambda g: plt.plot(g.beta, g.s_2, color = 'lightgrey', zorder = 1))\n",
    "# plt.semilogy()"
   ]
  },
  {
   "cell_type": "markdown",
   "metadata": {},
   "source": [
    "# Compute stability"
   ]
  },
  {
   "cell_type": "code",
   "execution_count": 9,
   "metadata": {},
   "outputs": [],
   "source": [
    "def numerical_jacobian(n_1, s_1, s_2, n, beta):\n",
    "    \n",
    "    # lives in n x n space\n",
    "    def h(s):\n",
    "        gamma = compute_gamma(s, beta)\n",
    "        G = np.tile(gamma, (n,1))\n",
    "        v = G.T.dot(s) - (s.T.dot(G.T).dot(s))*s\n",
    "        return(v)\n",
    "    \n",
    "    J = np.zeros((n,n))\n",
    "    eps = 10**(-10)\n",
    "    s = make_s(s_1, s_2, n_1, n)\n",
    "    for j in range(n):\n",
    "        s_ = s.copy()\n",
    "        s__ = s.copy()\n",
    "        s_[j] += eps\n",
    "        s__[j] -= eps\n",
    "        \n",
    "        J[j,:] = (h(s_) - h(s__))/(2*eps)\n",
    "    \n",
    "    return(J)\n",
    "\n",
    "# def test_stable(n_1, s_1, s_2, n, beta):\n",
    "#     J = numerical_jacobian(n_1, s_1, s_2, n, beta)\n",
    "#     try: \n",
    "#         stable = np.linalg.eig(J)[0].max() < 0\n",
    "#         return(stable)\n",
    "#     except np.linalg.LinAlgError:\n",
    "#         return(np.nan)\n",
    "\n",
    "def test_stable_(n_1, s_1, s_2, n, beta):\n",
    "    '''\n",
    "    It is unclear exactly why \n",
    "    '''\n",
    "    J = numerical_jacobian(n_1, s_1, s_2, n, beta)\n",
    "\n",
    "    eigs = np.linalg.eig(J)\n",
    "\n",
    "    which_eig = np.argmax(np.abs(eigs[0]))\n",
    "    vec = eigs[1][:,which_eig]\n",
    "    if(np.var(vec) < 10**(-3)):\n",
    "        dominant_egalitarian = True\n",
    "    else:\n",
    "        dominant_egalitarian = False\n",
    "    \n",
    "    if eigs[0].max() < 0:\n",
    "        linearly_stable = True\n",
    "    else:\n",
    "        linearly_stable = False\n",
    "    return(dominant_egalitarian or linearly_stable)\n"
   ]
  },
  {
   "cell_type": "code",
   "execution_count": 10,
   "metadata": {},
   "outputs": [],
   "source": [
    "df['stable'] = df.apply(lambda row: test_stable_(row.n_1, row.s_1, row.s_2, n, row.beta), axis = 1)"
   ]
  },
  {
   "cell_type": "code",
   "execution_count": 11,
   "metadata": {},
   "outputs": [
    {
     "data": {
      "image/png": "[encoded data removed]",
      "text/plain": [
       "<Figure size 432x288 with 1 Axes>"
      ]
     },
     "metadata": {
      "needs_background": "light"
     },
     "output_type": "display_data"
    }
   ],
   "source": [
    "colors = ['lightgrey', 'black']\n",
    "p = df.groupby(['n_1','group', 'stable']).apply(lambda g: plt.plot(g.beta, g.s_1, zorder = 1, color = colors[0]))\n",
    "p = df.groupby(['n_1','group', 'stable']).apply(lambda g: plt.plot(g.beta, g.s_2, zorder = 1, color = colors[0]))\n",
    "\n",
    "df_sub = df[df.stable]\n",
    "p = df_sub.groupby(['n_1','group', 'stable']).apply(lambda g: plt.plot(g.beta, g.s_1, zorder = 1, color = colors[1]))\n",
    "p = df_sub.groupby(['n_1', 'group', 'stable']).apply(lambda g: plt.plot(g.beta, g.s_2, zorder = 1, color = colors[1]))\n",
    "\n",
    "\n",
    "# ix = df.s_1 > .9\n",
    "\n",
    "# plt.plot(df.beta[ix], df.s_1[ix], zorder = 1, color = 'black')\n",
    "# plt.plot(df.beta[ix], df.s_2[ix], zorder = 1, color = 'black')"
   ]
  },
  {
   "cell_type": "code",
   "execution_count": 12,
   "metadata": {},
   "outputs": [],
   "source": [
    "df.to_csv('throughput/eigenvector_score_curves.csv', index = False)"
   ]
  }
 ],
 "metadata": {
  "kernelspec": {
   "display_name": "Python 3",
   "language": "python",
   "name": "python3"
  },
  "language_info": {
   "codemirror_mode": {
    "name": "ipython",
    "version": 3
   },
   "file_extension": ".py",
   "mimetype": "text/x-python",
   "name": "python",
   "nbconvert_exporter": "python",
   "pygments_lexer": "ipython3",
   "version": "3.7.2"
  }
 },
 "nbformat": 4,
 "nbformat_minor": 2
}
