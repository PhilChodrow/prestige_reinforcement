{
 "cells": [
  {
   "cell_type": "markdown",
   "metadata": {},
   "source": [
    "# Profiling\n",
    "\n",
    "This notebook provides a simple version of an asynchronous model of prestige-reinforcement in networked endorsement dynamics, as exemplified by the faculty hiring process. \n",
    "\n",
    "This notebook is intentionally designed to expose all calculations, so all functions etc. (other than SpringRank) are defined in here directly. "
   ]
  },
  {
   "cell_type": "code",
   "execution_count": 1,
   "metadata": {},
   "outputs": [],
   "source": [
    "import numpy as np\n",
    "from numba import jit\n",
    "\n",
    "\n",
    "from py.simulation import *\n",
    "from py.estimation import *\n",
    "from py.features import *\n",
    "from py.utils import *\n",
    "from py.model import model\n",
    "\n",
    "import cProfile\n",
    "\n",
    "from SpringRank import SpringRank\n",
    "\n",
    "from matplotlib import pyplot as plt"
   ]
  },
  {
   "cell_type": "code",
   "execution_count": 2,
   "metadata": {},
   "outputs": [],
   "source": [
    "# Params\n",
    "\n",
    "n = 5\n",
    "n_rounds = 500\n",
    "m_updates = 1\n",
    "A = np.sqrt(np.random.rand(n,n))\n",
    "A0 = A/A.sum()\n",
    "lam = .995"
   ]
  },
  {
   "cell_type": "code",
   "execution_count": 10,
   "metadata": {},
   "outputs": [],
   "source": [
    "@jit(nopython=True)\n",
    "def homebrew_SpringRank(A, alpha):\n",
    "    Di = np.diag(A.sum(axis = 0))\n",
    "    Do = np.diag(A.sum(axis = 1))\n",
    "    L = Di + Do - A - A.T + alpha*np.eye(A.shape[0])\n",
    "    return(np.linalg.inv(L).dot(Do - Di).dot(np.ones(A.shape[0])))"
   ]
  },
  {
   "cell_type": "code",
   "execution_count": 11,
   "metadata": {},
   "outputs": [
    {
     "name": "stderr",
     "output_type": "stream",
     "text": [
      "<ipython-input-10-051843f101c6>:6: NumbaPerformanceWarning: np.dot() is faster on contiguous arrays, called on (array(float64, 2d, A), array(float64, 2d, C))\n",
      "  return(np.linalg.inv(L).dot(Do - Di).dot(np.ones(A.shape[0])))\n"
     ]
    },
    {
     "data": {
      "text/plain": [
       "array([ 0.04876716,  0.20011324, -0.09800409,  0.13769909, -0.10335942,\n",
       "       -0.21795335, -0.05319701, -0.10410921,  0.02627999,  0.16376361])"
      ]
     },
     "execution_count": 11,
     "metadata": {},
     "output_type": "execute_result"
    }
   ],
   "source": [
    "A = np.random.rand(n,n)\n",
    "homebrew_SpringRank(A.T, alpha = .0001)"
   ]
  },
  {
   "cell_type": "code",
   "execution_count": 12,
   "metadata": {},
   "outputs": [
    {
     "data": {
      "text/plain": [
       "array([ 0.04876672,  0.2001131 , -0.09800456,  0.13769917, -0.10335886,\n",
       "       -0.21795313, -0.05319711, -0.10410849,  0.02628016,  0.16376301])"
      ]
     },
     "execution_count": 12,
     "metadata": {},
     "output_type": "execute_result"
    }
   ],
   "source": [
    "SpringRank.SpringRank(A.T, alpha = .0001)"
   ]
  },
  {
   "cell_type": "code",
   "execution_count": 13,
   "metadata": {},
   "outputs": [],
   "source": [
    "ralpha = 10**(-7)\n",
    "SpringRank_score = lambda A: SpringRank.SpringRank(A.T, alpha = ralpha)\n",
    "homebrew_SpringRank_score = lambda A: homebrew_SpringRank(A.T, alpha = ralpha)\n",
    "linear_feature = lambda s: np.tile(s,(len(s), 1))\n",
    "\n",
    "# root_degree_score = lambda A: np.sqrt(A.sum(axis = 0))\n",
    "\n",
    "\n",
    "M = model()\n",
    "M.set_score(score_function = homebrew_SpringRank_score)\n",
    "M.set_features([linear_feature])"
   ]
  },
  {
   "cell_type": "code",
   "execution_count": 14,
   "metadata": {},
   "outputs": [],
   "source": [
    "n = 10\n",
    "n_rounds = 5000\n",
    "m_updates = 1\n",
    "A = np.sqrt(np.random.rand(n,n))\n",
    "A0 = A/A.sum()\n",
    "lam = .97\n",
    "beta = 3"
   ]
  },
  {
   "cell_type": "code",
   "execution_count": 15,
   "metadata": {},
   "outputs": [],
   "source": [
    "cmd = 'M.simulate(beta = np.array([beta]), lam = lam, A0 = A0, n_rounds = n_rounds, update = deterministic_update, m_updates = m_updates)'"
   ]
  },
  {
   "cell_type": "code",
   "execution_count": 16,
   "metadata": {},
   "outputs": [
    {
     "name": "stdout",
     "output_type": "stream",
     "text": [
      "         250011 function calls (245011 primitive calls) in 1.250 seconds\n",
      "\n",
      "   Ordered by: standard name\n",
      "\n",
      "   ncalls  tottime  percall  cumtime  percall filename:lineno(function)\n",
      "     5000    0.008    0.000    0.040    0.000 <__array_function__ internals>:2(dot)\n",
      "     5000    0.009    0.000    0.410    0.000 <__array_function__ internals>:2(tensordot)\n",
      "     5000    0.008    0.000    0.141    0.000 <__array_function__ internals>:2(tile)\n",
      "     5000    0.172    0.000    0.172    0.000 <ipython-input-10-051843f101c6>:1(homebrew_SpringRank)\n",
      "     5000    0.042    0.000    0.215    0.000 <ipython-input-13-30008af30239>:3(<lambda>)\n",
      "     5000    0.013    0.000    0.157    0.000 <ipython-input-13-30008af30239>:4(<lambda>)\n",
      "        1    0.000    0.000    1.250    1.250 <string>:1(<module>)\n",
      "    10000    0.006    0.000    0.012    0.000 _asarray.py:16(asarray)\n",
      "     5000    0.004    0.000    0.070    0.000 _methods.py:36(_sum)\n",
      "        1    0.326    0.326    1.249    1.249 model.py:42(simulate)\n",
      "     5000    0.002    0.000    0.002    0.000 multiarray.py:707(dot)\n",
      "     5000    0.003    0.000    0.003    0.000 numeric.py:1080(<listcomp>)\n",
      "     5000    0.002    0.000    0.002    0.000 numeric.py:1085(<listcomp>)\n",
      "     5000    0.001    0.000    0.001    0.000 numeric.py:1086(<listcomp>)\n",
      "     5000    0.006    0.000    0.006    0.000 numeric.py:1088(<listcomp>)\n",
      "     5000    0.003    0.000    0.003    0.000 numeric.py:1093(<listcomp>)\n",
      "     5000    0.003    0.000    0.003    0.000 numeric.py:1094(<listcomp>)\n",
      "     5000    0.002    0.000    0.002    0.000 numeric.py:908(_tensordot_dispatcher)\n",
      "     5000    0.143    0.000    0.377    0.000 numeric.py:912(tensordot)\n",
      "     5000    0.002    0.000    0.002    0.000 shape_base.py:1151(_tile_dispatcher)\n",
      "     5000    0.070    0.000    0.125    0.000 shape_base.py:1155(tile)\n",
      "    10000    0.006    0.000    0.006    0.000 shape_base.py:1227(<genexpr>)\n",
      "    15000    0.008    0.000    0.008    0.000 shape_base.py:1237(<genexpr>)\n",
      "     5000    0.061    0.000    0.061    0.000 simulation.py:24(deterministic_update)\n",
      "     5000    0.004    0.000    0.007    0.000 {built-in method builtins.all}\n",
      "        1    0.000    0.000    1.250    1.250 {built-in method builtins.exec}\n",
      "     5000    0.002    0.000    0.002    0.000 {built-in method builtins.iter}\n",
      "    20000    0.018    0.000    0.018    0.000 {built-in method builtins.len}\n",
      "    15001    0.015    0.000    0.015    0.000 {built-in method numpy.array}\n",
      "15000/10000    0.059    0.000    0.530    0.000 {built-in method numpy.core._multiarray_umath.implement_array_function}\n",
      "        5    0.001    0.000    0.001    0.000 {built-in method numpy.zeros}\n",
      "        1    0.001    0.001    0.001    0.001 {method 'copy' of 'numpy.ndarray' objects}\n",
      "        1    0.000    0.000    0.000    0.000 {method 'disable' of '_lsprof.Profiler' objects}\n",
      "    15000    0.186    0.000    0.186    0.000 {method 'reduce' of 'numpy.ufunc' objects}\n",
      "     5000    0.014    0.000    0.014    0.000 {method 'repeat' of 'numpy.ndarray' objects}\n",
      "    25000    0.030    0.000    0.030    0.000 {method 'reshape' of 'numpy.ndarray' objects}\n",
      "     5000    0.009    0.000    0.079    0.000 {method 'sum' of 'numpy.ndarray' objects}\n",
      "    10000    0.011    0.000    0.011    0.000 {method 'transpose' of 'numpy.ndarray' objects}\n",
      "\n",
      "\n"
     ]
    }
   ],
   "source": [
    "cProfile.run(cmd)"
   ]
  },
  {
   "cell_type": "code",
   "execution_count": 105,
   "metadata": {},
   "outputs": [
    {
     "data": {
      "text/plain": [
       "[<matplotlib.lines.Line2D at 0x11d7ac710>,\n",
       " <matplotlib.lines.Line2D at 0x11d7ac860>,\n",
       " <matplotlib.lines.Line2D at 0x11d7ac9b0>,\n",
       " <matplotlib.lines.Line2D at 0x11d7acb00>,\n",
       " <matplotlib.lines.Line2D at 0x11d7acc50>,\n",
       " <matplotlib.lines.Line2D at 0x11d7acda0>,\n",
       " <matplotlib.lines.Line2D at 0x11d7acef0>,\n",
       " <matplotlib.lines.Line2D at 0x11d7b5080>,\n",
       " <matplotlib.lines.Line2D at 0x11d7b51d0>,\n",
       " <matplotlib.lines.Line2D at 0x11d7b5320>]"
      ]
     },
     "execution_count": 105,
     "metadata": {},
     "output_type": "execute_result"
    },
    {
     "data": {
      "image/png": "[encoded data removed]",
      "text/plain": [
       "<Figure size 432x288 with 1 Axes>"
      ]
     },
     "metadata": {
      "needs_background": "light"
     },
     "output_type": "display_data"
    }
   ],
   "source": [
    "plt.plot(M.GAMMA.mean(axis = 1))"
   ]
  },
  {
   "cell_type": "code",
   "execution_count": 84,
   "metadata": {},
   "outputs": [],
   "source": [
    "# features\n",
    "\n",
    "linear_feature = lambda s: np.tile(s,(len(s), 1))\n",
    "def quadratic_feature(s):\n",
    "    S = linear_feature(s)\n",
    "    F = (S - S.T)**2\n",
    "    return(F)\n"
   ]
  },
  {
   "cell_type": "code",
   "execution_count": 97,
   "metadata": {},
   "outputs": [],
   "source": [
    "n = 10\n",
    "\n",
    "A0 = np.random.rand(n,n)\n",
    "A0 = A0/A0.sum()\n",
    "\n",
    "lam = .97\n",
    "n_rounds = 10000\n",
    "\n",
    "b_grid = 101\n",
    "BETAS = np.linspace(1,3, b_grid)\n",
    "\n",
    "V = np.zeros((b_grid, n))\n",
    "\n",
    "M = model()\n",
    "M.set_score(score_function = SpringRank_score)\n",
    "M.set_features([linear_feature])\n",
    "\n",
    "for j in range(b_grid):\n",
    "\n",
    "    M.simulate(beta = np.array([BETAS[j]]), \n",
    "                       lam = lam, \n",
    "                       A0 = A0, \n",
    "                       n_rounds = n_rounds, \n",
    "                       update = deterministic_update, \n",
    "                       m_updates = m_updates)\n",
    "    GAMMA = M.get_rates()\n",
    "    GAMMA = np.sort(GAMMA, axis = 2)\n",
    "    V[j] = GAMMA[-1].mean(axis = 0)"
   ]
  },
  {
   "cell_type": "code",
   "execution_count": 98,
   "metadata": {},
   "outputs": [
    {
     "data": {
      "image/png": "[encoded data removed]",
      "text/plain": [
       "<Figure size 432x288 with 1 Axes>"
      ]
     },
     "metadata": {
      "needs_background": "light"
     },
     "output_type": "display_data"
    }
   ],
   "source": [
    "p = plt.plot(BETAS, V)"
   ]
  },
  {
   "cell_type": "code",
   "execution_count": 100,
   "metadata": {},
   "outputs": [
    {
     "data": {
      "text/plain": [
       "array([0.02154211, 0.02154211, 0.02154211, 0.02154211, 0.02154211,\n",
       "       0.02154211, 0.02154211, 0.2830651 , 0.28307001, 0.28307011])"
      ]
     },
     "execution_count": 100,
     "metadata": {},
     "output_type": "execute_result"
    }
   ],
   "source": [
    "V[-1]"
   ]
  },
  {
   "cell_type": "code",
   "execution_count": 93,
   "metadata": {},
   "outputs": [
    {
     "data": {
      "text/plain": [
       "[<matplotlib.lines.Line2D at 0x120fbed68>,\n",
       " <matplotlib.lines.Line2D at 0x120fbeeb8>,\n",
       " <matplotlib.lines.Line2D at 0x120fcc048>,\n",
       " <matplotlib.lines.Line2D at 0x120fcc198>,\n",
       " <matplotlib.lines.Line2D at 0x120fcc2e8>,\n",
       " <matplotlib.lines.Line2D at 0x120fcc438>,\n",
       " <matplotlib.lines.Line2D at 0x120fcc588>,\n",
       " <matplotlib.lines.Line2D at 0x120fcc6d8>,\n",
       " <matplotlib.lines.Line2D at 0x120fcc828>,\n",
       " <matplotlib.lines.Line2D at 0x120fcc978>]"
      ]
     },
     "execution_count": 93,
     "metadata": {},
     "output_type": "execute_result"
    },
    {
     "data": {
      "image/png": "[encoded data removed]",
      "text/plain": [
       "<Figure size 432x288 with 1 Axes>"
      ]
     },
     "metadata": {
      "needs_background": "light"
     },
     "output_type": "display_data"
    }
   ],
   "source": [
    "n_rounds = 3000\n",
    "\n",
    "T = M.simulate(beta = np.array([3]), \n",
    "                   lam = lam, \n",
    "                   A0 = A0, \n",
    "                   n_rounds = n_rounds, \n",
    "                   update = deterministic_update, \n",
    "                   m_updates = m_updates)\n",
    "\n",
    "GAMMA = M.get_rates()\n",
    "GAMMA = GAMMA.mean(axis = 1)\n",
    "plt.plot(GAMMA)"
   ]
  },
  {
   "cell_type": "code",
   "execution_count": 132,
   "metadata": {},
   "outputs": [],
   "source": [
    "\n",
    "\n",
    "transition_predictions = {\n",
    "    'SpringRank': 2 + n*ralpha, \n",
    "    'Root-Degree': 2*n**(1/2),\n",
    "    'PageRank': n # not derived in any meaningful way yet\n",
    "}"
   ]
  },
  {
   "cell_type": "code",
   "execution_count": 133,
   "metadata": {},
   "outputs": [
    {
     "data": {
      "image/png": "[encoded data removed]",
      "text/plain": [
       "<Figure size 864x360 with 3 Axes>"
      ]
     },
     "metadata": {
      "needs_background": "light"
     },
     "output_type": "display_data"
    }
   ],
   "source": [
    "b_grid = 101\n",
    "\n",
    "BETAS = {\n",
    "    'SpringRank' : np.linspace(0, 5, b_grid), \n",
    "    'Root-Degree': np.linspace(0,10, b_grid),\n",
    "    'PageRank' : np.linspace(0, 15, b_grid)\n",
    "}\n",
    "\n",
    "score_names = list(scores.keys())\n",
    "\n",
    "k = len(score_names)\n",
    "\n",
    "fig, axarr = plt.subplots(1,k, figsize = (12, 5), sharey = True)\n",
    "\n",
    "for i in range(k):\n",
    "\n",
    "    M = model()\n",
    "    M.set_score(score_function = scores[score_names[i]])\n",
    "    M.set_features([linear_feature])\n",
    "    \n",
    "    V = np.zeros((b_grid, n))\n",
    "    \n",
    "    for j in range(b_grid):\n",
    "        M.simulate(beta = np.array([BETAS[score_names[i]][j]]), \n",
    "                   lam = lam, \n",
    "                   A0 = A0, \n",
    "                   n_rounds = n_rounds, \n",
    "                   update = deterministic_update, \n",
    "                   m_updates = m_updates)\n",
    "        GAMMA = M.get_rates()\n",
    "        GAMMA = np.sort(GAMMA, axis = 2)\n",
    "        V[j] = GAMMA[-1].mean(axis = 0)\n",
    "    \n",
    "    p = axarr[i].plot(BETAS[score_names[i]], V)\n",
    "    \n",
    "    v = axarr[i].vlines(x = [transition_predictions[score_names[i]]], \n",
    "                        ymin = 0, \n",
    "                        ymax = 1, \n",
    "                        linewidth = 0.5, \n",
    "                        linestyle = 'dashed')\n",
    "    \n",
    "    t = axarr[i].set_title(score_names[i])\n",
    "    \n",
    "    axarr[i].spines['top'].set_visible(False)\n",
    "    axarr[i].spines['right'].set_visible(False)\n",
    "    \n",
    "\n",
    "plt.savefig('fig/phase_transitions.png')"
   ]
  },
  {
   "cell_type": "code",
   "execution_count": null,
   "metadata": {},
   "outputs": [],
   "source": []
  }
 ],
 "metadata": {
  "kernelspec": {
   "display_name": "Python 3",
   "language": "python",
   "name": "python3"
  },
  "language_info": {
   "codemirror_mode": {
    "name": "ipython",
    "version": 3
   },
   "file_extension": ".py",
   "mimetype": "text/x-python",
   "name": "python",
   "nbconvert_exporter": "python",
   "pygments_lexer": "ipython3",
   "version": "3.7.2"
  }
 },
 "nbformat": 4,
 "nbformat_minor": 2
}
