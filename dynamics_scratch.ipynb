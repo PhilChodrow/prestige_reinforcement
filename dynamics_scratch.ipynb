{
 "cells": [
  {
   "cell_type": "code",
   "execution_count": 1,
   "metadata": {},
   "outputs": [],
   "source": [
    "import numpy as np\n",
    "\n",
    "from py.simulation import *\n",
    "from py.estimation import *\n",
    "from py.features import *\n",
    "from py.utils import *\n",
    "\n",
    "from importlib import reload\n",
    "from scipy.optimize import root\n",
    "\n",
    "\n",
    "from matplotlib import pyplot as plt"
   ]
  },
  {
   "cell_type": "code",
   "execution_count": 49,
   "metadata": {},
   "outputs": [],
   "source": [
    "n = 50\n",
    "\n",
    "n_rounds = 1000\n",
    "lam = .99\n",
    "beta = np.array([1, 0])\n",
    "\n",
    "m_updates = 100\n",
    "\n",
    "p = .5\n",
    "\n",
    "def feature_(A, p = 1):\n",
    "    n = A.shape[1]\n",
    "    S = np.zeros((2,n,n))\n",
    "    S[0] = A.sum(axis = 0)**p\n",
    "    S[1] = 0\n",
    "    return(S)\n",
    "\n",
    "feature = time_series_vectorizer(feature_)"
   ]
  },
  {
   "cell_type": "code",
   "execution_count": null,
   "metadata": {},
   "outputs": [],
   "source": [
    "def order(beta):\n",
    "    A0 = 1 / m_updates * np.ones((n,n)) + .001*np.random.randint(2, size = (n,n))\n",
    "\n",
    "    T = simulate(A0, \n",
    "                 n_rounds = n_rounds, \n",
    "                 lam = lam, \n",
    "                 feature = lambda A: feature(A, p = p), \n",
    "                 beta = np.array([beta,0]), \n",
    "                 m_updates = m_updates, \n",
    "                 method = 'deterministic')\n",
    "\n",
    "    A = state_matrix(T, A0 = A0, lam = lam)\n",
    "    \n",
    "    return(np.var(A[-1].sum(axis = 0)))\n",
    "\n",
    "BETAS = np.linspace(0,10,101)\n",
    "V = np.array([order(beta) for beta in BETAS])"
   ]
  },
  {
   "cell_type": "code",
   "execution_count": 43,
   "metadata": {},
   "outputs": [],
   "source": [
    "# estimation of the phase transition\n",
    "\n",
    "def f(beta, d, p, n):\n",
    "    I = np.eye(n,n)\n",
    "    E = np.ones((n,n))\n",
    "    \n",
    "    M = I - (beta*p*(d**(p-1)))*(I - 1/n*E)\n",
    "    \n",
    "    eig = np.linalg.eigh(M)[0]\n",
    "    return(eig.min())\n",
    "\n",
    "d = m_updates / n\n",
    "\n",
    "beta = root(lambda beta: f(beta, d = .5*d, p = p, n = n), \n",
    "     x0 = 2)['x']"
   ]
  },
  {
   "cell_type": "code",
   "execution_count": 48,
   "metadata": {},
   "outputs": [
    {
     "data": {
      "text/plain": [
       "(0, 1)"
      ]
     },
     "execution_count": 48,
     "metadata": {},
     "output_type": "execute_result"
    },
    {
     "data": {
      "image/png": "[encoded data removed]",
      "text/plain": [
       "<Figure size 432x288 with 1 Axes>"
      ]
     },
     "metadata": {
      "needs_background": "light"
     },
     "output_type": "display_data"
    }
   ],
   "source": [
    "plt.plot(BETAS, V)\n",
    "plt.vlines([beta], ymin = 0, ymax = 3, color = 'black', linewidth = 4)\n",
    "plt.ylim(0,1)"
   ]
  },
  {
   "cell_type": "code",
   "execution_count": null,
   "metadata": {},
   "outputs": [],
   "source": []
  }
 ],
 "metadata": {
  "kernelspec": {
   "display_name": "Python 3",
   "language": "python",
   "name": "python3"
  },
  "language_info": {
   "codemirror_mode": {
    "name": "ipython",
    "version": 3
   },
   "file_extension": ".py",
   "mimetype": "text/x-python",
   "name": "python",
   "nbconvert_exporter": "python",
   "pygments_lexer": "ipython3",
   "version": "3.7.2"
  }
 },
 "nbformat": 4,
 "nbformat_minor": 2
}
