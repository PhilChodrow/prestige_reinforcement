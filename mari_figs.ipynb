{
 "cells": [
  {
   "cell_type": "code",
   "execution_count": 1,
   "metadata": {},
   "outputs": [],
   "source": [
    "import numpy as np\n",
    "from numba import jit\n",
    "\n",
    "from py.model import *\n",
    "from py.scores import *\n",
    "\n",
    "import pandas as pd\n",
    "\n",
    "from matplotlib import pyplot as plt\n",
    "\n",
    "from itertools import product\n",
    "\n",
    "import matplotlib\n",
    "matplotlib.rcParams['font.sans-serif'] = \"Arial Unicode MS\""
   ]
  },
  {
   "cell_type": "code",
   "execution_count": 4,
   "metadata": {},
   "outputs": [],
   "source": [
    "cset = ['#4477AA', '#EE6677', '#228833', '#CCBB44', '#66CCEE', '#AA3377']\n",
    "cset_muted = ['#CC6677', '#332288', '#DDCC77', '#117733', '#88CCEE', '#882255', '#44AA99', '#999933', '#AA4499', '#DDDDDD','#000000']"
   ]
  },
  {
   "cell_type": "code",
   "execution_count": 5,
   "metadata": {},
   "outputs": [],
   "source": [
    "df_SR = pd.read_csv('throughput/springrank_score_curves.csv')"
   ]
  },
  {
   "cell_type": "code",
   "execution_count": 6,
   "metadata": {},
   "outputs": [],
   "source": [
    "n = 8\n",
    "\n",
    "def compute_gamma(row, power = 1): \n",
    "    beta = row.beta\n",
    "    s_1 = row.s_1\n",
    "    s_2 = row.s_2\n",
    "    n_1 = row.n_1\n",
    "    n_2 = n - n_1\n",
    "    \n",
    "    v_1 = np.exp(beta*(s_1**power))\n",
    "    v_2 = np.exp(beta*(s_2**power))\n",
    "    \n",
    "    gamma_1 = np.array(v_1/(n_1*v_1 + n_2*v_2))\n",
    "    gamma_2 = np.array(v_2/(n_1*v_1 + n_2*v_2))\n",
    "    \n",
    "    return(pd.Series([gamma_1, gamma_2], index = ['gamma_1', 'gamma_2']))"
   ]
  },
  {
   "cell_type": "code",
   "execution_count": 7,
   "metadata": {},
   "outputs": [],
   "source": [
    "df_SR = pd.concat((df_SR, df_SR.apply(compute_gamma, result_type = 'expand', axis = 1)), axis = 1)\n",
    "\n",
    "@jit(nopython=True)\n",
    "def linear_feature(s):\n",
    "    return(np.outer(np.ones(len(s)), s))"
   ]
  },
  {
   "cell_type": "code",
   "execution_count": 8,
   "metadata": {},
   "outputs": [],
   "source": [
    "SMALL_SIZE = 8\n",
    "MEDIUM_SIZE = 12\n",
    "BIGGER_SIZE = 14\n",
    "\n",
    "plt.rc('font', size=SMALL_SIZE)          # controls default text sizes\n",
    "plt.rc('axes', titlesize=BIGGER_SIZE)     # fontsize of the axes title\n",
    "plt.rc('axes', labelsize=MEDIUM_SIZE)    # fontsize of the x and y labels\n",
    "plt.rc('xtick', labelsize=MEDIUM_SIZE)    # fontsize of the tick labels\n",
    "plt.rc('ytick', labelsize=MEDIUM_SIZE)    # fontsize of the tick labels\n",
    "plt.rc('legend', fontsize=MEDIUM_SIZE)    # legend fontsize\n",
    "plt.rc('figure', titlesize=BIGGER_SIZE)  # fontsize of the figure title"
   ]
  },
  {
   "cell_type": "code",
   "execution_count": 19,
   "metadata": {},
   "outputs": [
    {
     "name": "stderr",
     "output_type": "stream",
     "text": [
      "/Users/philchodrow/Library/Python/3.7/lib/python/site-packages/ipykernel_launcher.py:7: SettingWithCopyWarning: \n",
      "A value is trying to be set on a copy of a slice from a DataFrame\n",
      "\n",
      "See the caveats in the documentation: http://pandas.pydata.org/pandas-docs/stable/indexing.html#indexing-view-versus-copy\n",
      "  import sys\n",
      "/Users/philchodrow/Library/Python/3.7/lib/python/site-packages/ipykernel_launcher.py:13: SettingWithCopyWarning: \n",
      "A value is trying to be set on a copy of a slice from a DataFrame\n",
      "\n",
      "See the caveats in the documentation: http://pandas.pydata.org/pandas-docs/stable/indexing.html#indexing-view-versus-copy\n",
      "  del sys.path[0]\n"
     ]
    },
    {
     "data": {
      "image/png": "[encoded data removed]",
      "text/plain": [
       "<Figure size 432x360 with 1 Axes>"
      ]
     },
     "metadata": {
      "needs_background": "light"
     },
     "output_type": "display_data"
    }
   ],
   "source": [
    "fig = plt.figure(figsize = (6, 5))\n",
    "ax = fig.add_subplot(111)\n",
    "\n",
    "p = df_SR.groupby(['n_1']).apply(lambda g: ax.plot(g.beta, g.gamma_1, zorder = 1, color = \"lightgrey\"))\n",
    "\n",
    "df_SR['group'] = df_SR.n_1\n",
    "df_SR['group'][df_SR.beta<2.00001] = -1\n",
    "df_SR[df_SR.stable].groupby(['n_1', 'group']).apply(lambda g: ax.plot(g.beta, g.gamma_1, zorder = 1, color = \"black\"))\n",
    "\n",
    "p = df_SR.groupby(['n_1']).apply(lambda g: ax.plot(g.beta, g.gamma_2, zorder = 1, color = \"lightgrey\"))\n",
    "\n",
    "df_SR['group'] = df_SR.n_1\n",
    "df_SR['group'][df_SR.beta<2.00001] = -1\n",
    "df_SR[df_SR.stable].groupby(['n_1', 'group']).apply(lambda g: ax.plot(g.beta, g.gamma_2, zorder = 1, color = \"black\"))\n",
    "\n",
    "ax.vlines(2, ymin = 0, ymax = 1, linewidth = .5, linestyle = 'dashed')\n",
    "\n",
    "ax.spines[\"top\"].set_visible(False)\n",
    "ax.spines[\"right\"].set_visible(False)\n",
    "\n",
    "ax.set(xlabel = r'Rank-sensitivity $\\beta_1$')\n",
    "ax.set(ylabel = r'Rank $\\gamma$')\n",
    "\n",
    "plt.savefig('fig/springrank_bifurcation_no_sim.png', dpi = 300, bbox_inches = 'tight')"
   ]
  },
  {
   "cell_type": "code",
   "execution_count": null,
   "metadata": {},
   "outputs": [],
   "source": []
  }
 ],
 "metadata": {
  "kernelspec": {
   "display_name": "Python 3",
   "language": "python",
   "name": "python3"
  },
  "language_info": {
   "codemirror_mode": {
    "name": "ipython",
    "version": 3
   },
   "file_extension": ".py",
   "mimetype": "text/x-python",
   "name": "python",
   "nbconvert_exporter": "python",
   "pygments_lexer": "ipython3",
   "version": "3.7.2"
  }
 },
 "nbformat": 4,
 "nbformat_minor": 2
}
