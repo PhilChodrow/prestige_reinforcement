{
 "cells": [
  {
   "cell_type": "code",
   "execution_count": 1,
   "metadata": {},
   "outputs": [],
   "source": [
    "import numpy as np\n",
    "\n",
    "\n",
    "from py.utils import *\n",
    "from py.prep_data import *\n",
    "from py.model import model\n",
    "from py.scores import homebrew_SpringRank_score, fiedler_vector_score, powered_degree_score, katz_score, PageRank_score\n",
    "from numba import jit\n",
    "\n",
    "\n",
    "# visualization\n",
    "\n",
    "from matplotlib import pyplot as plt\n",
    "import matplotlib\n",
    "matplotlib.rcParams['font.sans-serif'] = \"Arial Unicode MS\"\n",
    "\n",
    "cset = ['#4477AA', '#EE6677', '#228833', '#CCBB44', '#66CCEE', '#AA3377']\n",
    "from matplotlib.gridspec import GridSpec\n"
   ]
  },
  {
   "cell_type": "markdown",
   "metadata": {},
   "source": [
    "# Data Preparation\n",
    "\n",
    "First we read the data. In order to ensure connectedness of the endorsement matrix across many time periods, we restrict the data to only the top 100 schools by placement. "
   ]
  },
  {
   "cell_type": "code",
   "execution_count": 2,
   "metadata": {},
   "outputs": [],
   "source": [
    "rank_threshold = 5\n",
    "t_start = 0\n",
    "\n",
    "T, timesteps, labels = prep_newcomb_frat('data/newcomb_frat/', rank_threshold = rank_threshold)\n",
    "T, timesteps, A0, n_obs = initial_condition(T, timesteps, t_start = t_start)\n",
    "n = T.shape[1]"
   ]
  },
  {
   "cell_type": "code",
   "execution_count": 3,
   "metadata": {},
   "outputs": [
    {
     "data": {
      "text/plain": [
       "1275.0"
      ]
     },
     "execution_count": 3,
     "metadata": {},
     "output_type": "execute_result"
    }
   ],
   "source": [
    "n_obs"
   ]
  },
  {
   "cell_type": "markdown",
   "metadata": {},
   "source": [
    "# Inference\n",
    "\n",
    "Now we're ready to try to learn the model on some data. In the paper, the instantaneous rate of endorsements to $j$ is given by $\\gamma_j \\propto e^{\\beta s_j}$. This rate is independent of the identity of the endorser. \n",
    "\n",
    "The model used here is an extension in two respects. First, we use a more general rate $\\gamma$ that depends on the identity of both the endorser and the endorsed: \n",
    "\n",
    "$$\\gamma_{ij} \\propto e^{\\beta_1s_j + \\beta_2 (s_i - s_j)^2}$$\n",
    "\n",
    "The incorporation of the quadratic term in the exponent governs a tendency for agents to endorse each other when they are nearby in the hierarchy. If $\\beta_1$ is negative, endorsements that span large swaths of rank-space are discouraged. For example, in the context of faculty hiring, negative values of $-\\beta_2$ would discourage cases in which a very low-ranked school was able to hire a candidate from a very high-ranked school. The model that we have been considering can be recovered by fixing $\\beta_2 = 0$. \n",
    "\n",
    "Second, we also consider a version of this model in which, instead of $s_j$ denoting the SpringRank of $j$, we set $s_j = \\sqrt{d_j}$. In this case, it doesn't matter \"where\" you are in the hierarchy, only the total number of endorsements you've received. \n",
    "\n",
    "The result of SpringRank-based inference is:"
   ]
  },
  {
   "cell_type": "code",
   "execution_count": 4,
   "metadata": {},
   "outputs": [
    {
     "name": "stdout",
     "output_type": "stream",
     "text": [
      "computing memory hyperparameter lambda\n"
     ]
    },
    {
     "name": "stderr",
     "output_type": "stream",
     "text": [
      "/Users/philchodrow/Dropbox (MIT)/projects/!side_projects/prestige_reinforcement/py/scores.py:13: NumbaPerformanceWarning: np.dot() is faster on contiguous arrays, called on (array(float64, 2d, A), array(float64, 2d, C))\n",
      "  return(np.linalg.inv(L).dot(Do - Di).dot(np.ones(A.shape[0])))\n"
     ]
    },
    {
     "name": "stdout",
     "output_type": "stream",
     "text": [
      "computing parameter vector beta\n"
     ]
    },
    {
     "data": {
      "text/plain": [
       "{'lam': 0.7098909645763343,\n",
       " 'beta': array([ 2.33348601, -0.85833548]),\n",
       " 'LL': -3338.911613060267}"
      ]
     },
     "execution_count": 4,
     "metadata": {},
     "output_type": "execute_result"
    }
   ],
   "source": [
    "L_SR = model()\n",
    "\n",
    "L_SR.set_score(\n",
    "    score_function = lambda A: homebrew_SpringRank_score(A.T + .0001, alpha = .01)\n",
    ")\n",
    "\n",
    "def linear_feature(s):\n",
    "    return(np.outer(np.ones(len(s)), s))\n",
    "\n",
    "def quadratic_feature(s):\n",
    "    S = linear_feature(s)\n",
    "    V = (S - S.T)**2\n",
    "    return(V)\n",
    "\n",
    "L_SR.set_features([\n",
    "    linear_feature, \n",
    "    quadratic_feature\n",
    "])\n",
    "\n",
    "L_SR.set_data(T, A0)\n",
    "\n",
    "pars_SR = L_SR.ML(lam0 = .8, \n",
    "           alpha0 = 10**(-4), \n",
    "           tol = 10**(-3), \n",
    "           step_cap = .05,\n",
    "           print_updates = False, \n",
    "           align = False)\n",
    "pars_SR"
   ]
  },
  {
   "cell_type": "markdown",
   "metadata": {},
   "source": [
    "The result of degree-based inference is: "
   ]
  },
  {
   "cell_type": "code",
   "execution_count": 5,
   "metadata": {},
   "outputs": [
    {
     "name": "stdout",
     "output_type": "stream",
     "text": [
      "computing memory hyperparameter lambda\n",
      "computing parameter vector beta\n"
     ]
    },
    {
     "data": {
      "text/plain": [
       "{'lam': 0.5759460242331442,\n",
       " 'beta': array([ 2.83530306, -0.60445795]),\n",
       " 'LL': -3340.193851309699}"
      ]
     },
     "execution_count": 5,
     "metadata": {},
     "output_type": "execute_result"
    }
   ],
   "source": [
    "# degree-based inference: this call should be faster\n",
    "\n",
    "L_deg = model()\n",
    "\n",
    "L_deg.set_score(\n",
    "    score_function = lambda A: powered_degree_score(A, p = 0.5)\n",
    ")\n",
    "\n",
    "L_deg.set_features([\n",
    "    lambda s: linear_feature(np.sqrt(s)), \n",
    "    lambda s: quadratic_feature(np.sqrt(s))\n",
    "])\n",
    "\n",
    "L_deg.set_data(T, A0)\n",
    "\n",
    "pars_deg = L_deg.ML(lam0 = .7, \n",
    "           alpha0 = 10**(-4), \n",
    "           tol = 10**(-3), \n",
    "           step_cap = .05,\n",
    "           print_updates = False, \n",
    "           align = False)\n",
    "pars_deg"
   ]
  },
  {
   "cell_type": "code",
   "execution_count": 6,
   "metadata": {},
   "outputs": [
    {
     "name": "stdout",
     "output_type": "stream",
     "text": [
      "computing memory hyperparameter lambda\n",
      "computing parameter vector beta\n"
     ]
    },
    {
     "data": {
      "text/plain": [
       "{'lam': 0.8709686134275215,\n",
       " 'beta': array([ 18.5721026 , -35.33041596]),\n",
       " 'LL': -3388.508923790655}"
      ]
     },
     "execution_count": 6,
     "metadata": {},
     "output_type": "execute_result"
    }
   ],
   "source": [
    "# pagerank!\n",
    "\n",
    "L_PR = model()\n",
    "\n",
    "    \n",
    "L_PR.set_score(\n",
    "    score_function = lambda A: PageRank_score(A.T)\n",
    ")\n",
    "\n",
    "L_PR.set_features([\n",
    "    linear_feature, \n",
    "    quadratic_feature\n",
    "])\n",
    "\n",
    "L_PR.set_data(T, A0)\n",
    "\n",
    "pars_PR = L_PR.ML(lam0 = .7, \n",
    "           alpha0 = 10**(-2), \n",
    "           tol = 10**(-5), \n",
    "           step_cap = .1,\n",
    "           print_updates = False, \n",
    "           align = False)\n",
    "pars_PR"
   ]
  },
  {
   "cell_type": "code",
   "execution_count": 7,
   "metadata": {},
   "outputs": [
    {
     "name": "stdout",
     "output_type": "stream",
     "text": [
      "computing memory hyperparameter lambda\n",
      "computing parameter vector beta\n"
     ]
    },
    {
     "data": {
      "text/plain": [
       "{'lam': 0.821979086045576,\n",
       " 'beta': array([ 0.84507744, -6.22808972]),\n",
       " 'LL': -3387.631195248112}"
      ]
     },
     "execution_count": 7,
     "metadata": {},
     "output_type": "execute_result"
    }
   ],
   "source": [
    "L_L = model()\n",
    "\n",
    "\n",
    "L_L.set_score(\n",
    "    score_function = fiedler_vector_score\n",
    ")\n",
    "\n",
    "L_L.set_features([\n",
    "    lambda s: linear_feature(s), \n",
    "    lambda s: quadratic_feature(s)\n",
    "])\n",
    "\n",
    "L_L.set_data(T, A0)\n",
    "\n",
    "pars_L = L_L.ML(lam0 = .9, \n",
    "           alpha0 = 10**(-2), \n",
    "           tol = 10**(-3), \n",
    "           step_cap = .1,\n",
    "           print_updates = False, \n",
    "           align = True)\n",
    "pars_L"
   ]
  },
  {
   "cell_type": "code",
   "execution_count": 8,
   "metadata": {},
   "outputs": [
    {
     "name": "stdout",
     "output_type": "stream",
     "text": [
      "computing memory hyperparameter lambda\n"
     ]
    },
    {
     "name": "stderr",
     "output_type": "stream",
     "text": [
      "/Users/philchodrow/Dropbox (MIT)/projects/!side_projects/prestige_reinforcement/py/scores.py:38: NumbaPerformanceWarning: np.dot() is faster on contiguous arrays, called on (array(float64, 2d, A), array(float64, 1d, C))\n",
      "  return(np.linalg.inv(I - alpha*A).dot(e))\n"
     ]
    },
    {
     "name": "stdout",
     "output_type": "stream",
     "text": [
      "Lambda = 0.4960097904477152, LL = 3360.4316978660036\n",
      "Lambda = 0.493344135418738, LL = 3360.4311090569845\n",
      "Lambda = 0.4915583844995126, LL = 3360.43084556505\n",
      "Lambda = 0.4903599113167729, LL = 3360.4307274651474\n",
      "Lambda = 0.4895546111474687, LL = 3360.430674555495\n",
      "Lambda = 0.4890130665335164, LL = 3360.4306509123926\n",
      "Lambda = 0.4886486966715893, LL = 3360.4306404018776\n",
      "Lambda = 0.4884034485603479, LL = 3360.4306357706464\n",
      "Lambda = 0.48823833866481436, LL = 3360.4306337594544\n",
      "Lambda = 0.4881271628510149, LL = 3360.430632906819\n",
      "computing parameter vector beta\n"
     ]
    },
    {
     "data": {
      "text/plain": [
       "{'lam': 0.4881271628510149,\n",
       " 'beta': array([ 1.01988099, -0.15832437]),\n",
       " 'LL': -3360.430632906819}"
      ]
     },
     "execution_count": 8,
     "metadata": {},
     "output_type": "execute_result"
    }
   ],
   "source": [
    "L_K = model()\n",
    "\n",
    "L_K.set_score(\n",
    "    score_function = lambda A: katz_score(A.T, alpha = .1)\n",
    ")\n",
    "\n",
    "L_K.set_features([\n",
    "    lambda s: linear_feature(s), \n",
    "    lambda s: quadratic_feature(s)\n",
    "])\n",
    "\n",
    "L_K.set_data(T, A0)\n",
    "\n",
    "pars_K = L_K.ML(lam0 = 0.5, \n",
    "           alpha0 = 10**(-2), \n",
    "           tol = 10**(-6), \n",
    "           step_cap = .1,\n",
    "           print_updates = True, \n",
    "           align = False)\n",
    "pars_K"
   ]
  },
  {
   "cell_type": "code",
   "execution_count": 9,
   "metadata": {},
   "outputs": [
    {
     "name": "stdout",
     "output_type": "stream",
     "text": [
      "SR: [0.138 0.137 0.155]\n",
      "deg: [0.126 0.154 0.213]\n",
      "PR: [ 0.039  0.99  11.83 ]\n",
      "L: [0.065 0.149 0.371]\n"
     ]
    }
   ],
   "source": [
    "# batch standard errors\n",
    "\n",
    "d = {\n",
    "    'SR': [L_SR, pars_SR],\n",
    "    'deg': [L_deg, pars_deg], \n",
    "    'PR': [L_PR, pars_PR], \n",
    "    'L' : [L_L, pars_L]\n",
    "}\n",
    "\n",
    "for key in d: \n",
    "    L = d[key][0]\n",
    "    pars = d[key][1]\n",
    "    H = L.estimate_hessian(pars['lam'], pars['beta'])\n",
    "    V = np.linalg.inv(-H) # covariance matrix\n",
    "    print(key + ': ' + str(np.round(np.sqrt(np.diag(V)), 3)))"
   ]
  },
  {
   "cell_type": "markdown",
   "metadata": {},
   "source": [
    "Let's proceed with the SR-based parameters. "
   ]
  },
  {
   "cell_type": "code",
   "execution_count": 17,
   "metadata": {},
   "outputs": [],
   "source": [
    "pars = pars_SR\n",
    "L = L_SR"
   ]
  },
  {
   "cell_type": "markdown",
   "metadata": {},
   "source": [
    "# Parameter Uncertainty\n",
    "\n",
    "Now let's estimate the covariance matrix of the parameters by inverting the Hessian matrix of the likelihood function at the parameters we solved for. "
   ]
  },
  {
   "cell_type": "code",
   "execution_count": 18,
   "metadata": {},
   "outputs": [
    {
     "data": {
      "text/plain": [
       "array([0.13837833, 0.13650459, 0.15458854])"
      ]
     },
     "execution_count": 18,
     "metadata": {},
     "output_type": "execute_result"
    }
   ],
   "source": [
    "# again might take a little while\n",
    "\n",
    "H = L.estimate_hessian(pars['lam'], pars['beta'])\n",
    "V = np.linalg.inv(-H) # covariance matrix\n",
    "np.sqrt(np.diag(V))"
   ]
  },
  {
   "cell_type": "code",
   "execution_count": 19,
   "metadata": {},
   "outputs": [
    {
     "data": {
      "image/png": "[encoded data removed]",
      "text/plain": [
       "<Figure size 576x216 with 4 Axes>"
      ]
     },
     "metadata": {
      "needs_background": "light"
     },
     "output_type": "display_data"
    }
   ],
   "source": [
    "fig = plt.figure(figsize = (8, 3))\n",
    "ax = fig.add_subplot(121)\n",
    "im = ax.imshow(V, cmap = 'BrBG', vmin = -0.03, vmax = 0.03) # estimated covariance matrix\n",
    "plt.colorbar(im)\n",
    "t = ax.set_title('Covariance matrix')\n",
    "plt.xticks([0,1,2], [r'$\\lambda$', r'$\\beta_1$', r'$\\beta_2$'])\n",
    "plt.yticks([0,1,2], [r'$\\lambda$', r'$\\beta_1$', r'$\\beta_2$'])\n",
    "\n",
    "ax = fig.add_subplot(122)\n",
    "p = np.concatenate(([pars['lam']], pars['beta']))\n",
    "im = ax.imshow(np.sqrt(V/np.outer(p,p)), cmap = 'inferno')    # coefficient of variation\n",
    "plt.colorbar(im)\n",
    "\n",
    "plt.xticks([0,1,2], [r'$\\lambda$', r'$\\beta_1$', r'$\\beta_2$'])\n",
    "plt.yticks([0,1,2], [r'$\\lambda$', r'$\\beta_1$', r'$\\beta_2$'])\n",
    "\n",
    "t = ax.set_title('Coefficients of variation')\n",
    "\n",
    "plt.tight_layout()\n",
    "\n",
    "plt.savefig('fig/frat_cv.png', dpi = 300)"
   ]
  },
  {
   "cell_type": "markdown",
   "metadata": {},
   "source": [
    "# Snapshot of model prediction\n",
    "\n",
    "The mini-study below considers how the model ''works.'' "
   ]
  },
  {
   "cell_type": "code",
   "execution_count": 21,
   "metadata": {},
   "outputs": [
    {
     "data": {
      "image/png": "[encoded data removed]",
      "text/plain": [
       "<Figure size 864x360 with 3 Axes>"
      ]
     },
     "metadata": {
      "needs_background": "light"
     },
     "output_type": "display_data"
    }
   ],
   "source": [
    "# snapshot of the state and cumulative hiring matrix at specified time i\n",
    "\n",
    "# A = state_matrix(T, A0 = A0, lam = pars['lam'])\n",
    "\n",
    "# S = SR_quadratic_feature(A)\n",
    "\n",
    "i = 2\n",
    "\n",
    "V = L.GAMMA[i]\n",
    "# V = softmax(S, np.array([2.8, 0]))[i]\n",
    "\n",
    "fig = plt.figure(figsize = (12, 5))\n",
    "ax = fig.add_subplot(131)\n",
    "ax.imshow(np.ones_like(V), cmap = 'Greys', vmax = 1, vmin = 0, alpha = 1)\n",
    "\n",
    "sorter = homebrew_SpringRank_score(L.A[i])\n",
    "\n",
    "ax.imshow(matrix_sort(L.A[i], sorter), vmax = 1,  cmap = 'Greys', alpha = .99)\n",
    "ax.set(title = r'State matrix $\\mathbf{A}^{(t)}$')\n",
    "ax.axis('off')\n",
    "\n",
    "ax = fig.add_subplot(132)\n",
    "# plt.imshow(np.ones_like(V), cmap = 'Greys', vmax = 1)\n",
    "ax.imshow(matrix_sort(V, sorter), alpha = .995, cmap = 'inferno', vmax = .2)\n",
    "ax.set(title = 'Inferred rate matrix $\\mathbf{\\Gamma}^{(t)}$')\n",
    "plt.gca().axis('off')\n",
    "\n",
    "ax = fig.add_subplot(133)\n",
    "ax.imshow(np.ones_like(T[i]), cmap = 'Greys', vmax = 1, vmin = 0, alpha = 1)\n",
    "ax.imshow(matrix_sort(T[i+1]-T[i], sorter), vmax = 1,  cmap = 'Greys', alpha = .99)\n",
    "ax.set(title = 'Update $\\mathbf{\\Delta}^{(t+1)}$')\n",
    "ax.axis('off')\n",
    "# plt.colorbar()\n",
    "\n",
    "plt.savefig('fig/frat_illustration.png', dpi = 300, bbox_inches = 'tight')"
   ]
  },
  {
   "cell_type": "markdown",
   "metadata": {},
   "source": [
    "On the far left, we show the model state $A_t$ at time $t = 30$. Each entry of this matrix is a weighted sum of previous hiring events: $A_{ij}^{(t)} = \\sum_{\\tau = 1}^t \\lambda^\\tau E_{ij}^{(\\tau)}$, where $E_{ij}^{(\\tau)}$ is the number of times $i$ endorsed $j$ in time period $\\tau$. This matrix is an input into the rate matrix $\\Gamma$, which is shown in the center. This is a matrix of predictions about endorsements in the next time-step: entry $\\gamma_{ij}$ is proportional to the predicted probability that $i$ will endorse $j$ in the next timestep. Finally, we can (heuristically) compare the rate matrix to the observed update at time $t+1$, noting that the bulk of endorsement events do indeed occur in regions of high probability specified by the rate matrix. "
   ]
  },
  {
   "cell_type": "markdown",
   "metadata": {},
   "source": [
    "# Inferred rank dynamics\n",
    "\n",
    "Now let's visualize the evolution of this system as understood by the model. It's of possible interest to visualize at least two distinct objects. The first is the overall modeled endorsement rate, which predicts the rate of endorsements of $j$ in the next timestep. The second is the intrinsic ranks modeled for each individual school. "
   ]
  },
  {
   "cell_type": "code",
   "execution_count": 22,
   "metadata": {},
   "outputs": [
    {
     "data": {
      "image/png": "[encoded data removed]",
      "text/plain": [
       "<Figure size 1080x432 with 2 Axes>"
      ]
     },
     "metadata": {
      "needs_background": "light"
     },
     "output_type": "display_data"
    }
   ],
   "source": [
    "fig, axarr = plt.subplots(1, 2, figsize = (15,6), sharey = True)\n",
    "\n",
    "# FIRST PLOT\n",
    "\n",
    "ax = axarr[0]\n",
    "\n",
    "# A = state_matrix(T, A0 = A0, lam = pars['lam'])\n",
    "# S = feature_fun(A)\n",
    "\n",
    "GAMMA = L_L.GAMMA.mean(axis = 1)\n",
    "\n",
    "top_trajectories = np.unique(GAMMA.argmax(axis = 1))\n",
    "top_trajectories = (-GAMMA.mean(axis = 0)).argsort()[0:6]\n",
    "\n",
    "\n",
    "# for i in range(6, top_n):\n",
    "p = ax.plot(timesteps, GAMMA, color = 'grey', alpha = .3)\n",
    "\n",
    "k = 0\n",
    "for i in top_trajectories:\n",
    "    ax.plot(timesteps, GAMMA[:,i], color = cset[k], alpha = 1, linewidth = 3)\n",
    "    k += 1\n",
    "\n",
    "ax.spines['top'].set_visible(False)\n",
    "ax.spines['right'].set_visible(False)\n",
    "\n",
    "\n",
    "ax.spines['bottom'].set_bounds(timesteps.min(), timesteps.max())\n",
    "\n",
    "ax.set(title = 'Endorsement Rates (Fiedler Vector)')\n",
    "\n",
    "\n",
    "# SECOND PLOT\n",
    "\n",
    "ax = axarr[1]\n",
    "\n",
    "GAMMA = L_SR.GAMMA.mean(axis = 1)\n",
    "\n",
    "# top_trajectories = np.unique(GAMMA.argmax(axis = 1))\n",
    "# top_trajectories = (-GAMMA.mean(axis = 0)).argsort()[0:6]\n",
    "\n",
    "# GAMMA = np.sort(GAMMA, axis = 1)\n",
    "# for i in range(6, top_n):\n",
    "p = ax.plot(timesteps, GAMMA, color = 'grey', alpha = .3)\n",
    "\n",
    "k = 0\n",
    "for i in top_trajectories:\n",
    "    ax.plot(timesteps, GAMMA[:,i], color = cset[k], alpha = 1, linewidth = 3)\n",
    "    k += 1\n",
    "\n",
    "ax.spines['top'].set_visible(False)\n",
    "ax.spines['right'].set_visible(False)\n",
    "\n",
    "# ax.spines['left'].set_bounds(0, GAMMA.max())\n",
    "ax.spines['bottom'].set_bounds(timesteps.min(), timesteps.max())\n",
    "\n",
    "ax.set(title = 'Endorsement Rates (SpringRank)')\n",
    "\n",
    "plt.tight_layout()\n",
    "\n",
    "plt.savefig('fig/frat_ranks.png', dpi = 300)"
   ]
  },
  {
   "cell_type": "markdown",
   "metadata": {},
   "source": [
    "These two figures tell an interesting story. On the left, the endorsement rate is proportional to the modeled rate at which a given school will be endorsed (i.e. place a candidate) in the next timestep. There is considerable heterogeneity in the ranks, as we would expect. \n",
    "\n",
    "If we look over to the right, however, we see much stronger inequality. That's because the righthand side has controlled for peer-effects, and is estimating pure prestige scores without regard for what schools are nearby in the rankings. These scores are more directly interpretable as pure measures of the prestige of each school. \n",
    "\n",
    "Mathematically, the endorsement rate on the righthand side is given by the expression $\\gamma_j = \\sum_{i} \\gamma_{ij}$ where \n",
    "\n",
    "$$\\gamma_{ij} \\propto e^{\\beta_1s_j + \\beta_2 (s_i - s_j)^2}$$\n",
    "\n",
    "as before. The inferred ranks are \n",
    "\n",
    "$$r_j \\propto e^{\\beta_1s_j}\\;.$$"
   ]
  }
 ],
 "metadata": {
  "kernelspec": {
   "display_name": "Python 3",
   "language": "python",
   "name": "python3"
  },
  "language_info": {
   "codemirror_mode": {
    "name": "ipython",
    "version": 3
   },
   "file_extension": ".py",
   "mimetype": "text/x-python",
   "name": "python",
   "nbconvert_exporter": "python",
   "pygments_lexer": "ipython3",
   "version": "3.7.2"
  }
 },
 "nbformat": 4,
 "nbformat_minor": 2
}
