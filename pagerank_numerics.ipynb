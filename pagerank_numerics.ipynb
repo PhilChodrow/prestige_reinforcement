{
 "cells": [
  {
   "cell_type": "code",
   "execution_count": 1,
   "metadata": {},
   "outputs": [],
   "source": [
    "import numpy as np\n",
    "from numba import jit\n",
    "\n",
    "from py.model import *\n",
    "from py.scores import *\n",
    "\n",
    "import pandas as pd\n",
    "# from SpringRank import SpringRank\n",
    "\n",
    "from matplotlib import pyplot as plt\n",
    "\n",
    "from scipy.optimize import root, minimize\n",
    "from scipy.optimize.slsqp import approx_jacobian\n",
    "from itertools import product\n",
    "\n",
    "from autograd import jacobian\n",
    "\n",
    "\n",
    "import matplotlib\n",
    "matplotlib.rcParams['font.sans-serif'] = \"Arial Unicode MS\""
   ]
  },
  {
   "cell_type": "code",
   "execution_count": 2,
   "metadata": {},
   "outputs": [],
   "source": [
    "cset = ['#4477AA', '#EE6677', '#228833', '#CCBB44', '#66CCEE', '#AA3377']\n",
    "cset_muted = ['#CC6677', '#332288', '#DDCC77', '#117733', '#88CCEE', '#882255', '#44AA99', '#999933', '#AA4499', '#DDDDDD','#000000']"
   ]
  },
  {
   "cell_type": "code",
   "execution_count": 3,
   "metadata": {},
   "outputs": [],
   "source": [
    "def compute_gamma(s, beta):\n",
    "    gamma = np.exp(beta*s)\n",
    "    gamma = gamma/gamma.sum()\n",
    "    return(gamma)\n",
    "\n",
    "def make_s(s_1, s_2, n_1, n):\n",
    "        \n",
    "    s_1 = s_1\n",
    "    s_2 = s_2\n",
    "    \n",
    "    n_1 = int(n_1)\n",
    "    n_2 = n - n_1\n",
    "    \n",
    "    s = np.zeros(n)\n",
    "    s[0:n_1] += 1*s_1\n",
    "    s[n_1:n] += 1*s_2\n",
    "#     s = s - (s.sum()-1)/n \n",
    "    return(s)\n",
    "\n",
    "def make_gamma(s_1, s_2, n_1, n, beta):\n",
    "    s = make_s(s_1, s_2, n_1, n)\n",
    "\n",
    "    return(compute_gamma(np.sqrt(s), beta)) # for root-degree score\n",
    "\n",
    "def f(s_1, s_2, n_1, n, beta, alpha, max_iters = 200, tol = 10**(-5)):\n",
    "    n = int(n)\n",
    "    s = make_s(s_1, s_2, n_1, n)\n",
    "    gamma = compute_gamma(s, beta)\n",
    "    \n",
    "    for i in range(max_iters):\n",
    "        s_old = s.copy()\n",
    "        gamma = compute_gamma(s, beta)\n",
    "        G = np.tile(gamma, (n,1))\n",
    "\n",
    "        E = np.ones((n,n))\n",
    "\n",
    "        eigs = np.linalg.eig(G.T + (1-alpha)/(alpha*n)*E)\n",
    "        which_eig = np.argmax(np.abs(eigs[0]))\n",
    "        v = np.abs(eigs[1][:,which_eig])\n",
    "        s = v / v.sum()*n\n",
    "        s = -np.sort(-s)\n",
    "        \n",
    "        # smoothing: \n",
    "        for i in range(n):\n",
    "            for j in range(n):\n",
    "                if np.abs(s[i] - s[j]) < 10**(-4):\n",
    "                    s[j] = s[i]\n",
    "        \n",
    "        if np.sqrt(((s - s_old)**2).sum()) < tol:\n",
    "            return(\n",
    "                pd.Series([s[0], s[-1]], index = ['s_1', 's_2'])\n",
    "            )\n",
    "    return(\n",
    "        pd.Series([s[0], s[-1]], index = ['s_1', 's_2'])\n",
    "    )\n",
    "        \n",
    "\n",
    "def g(row):\n",
    "    return(f(row.s_1_0, row.s_2_0, row.n_1, row.n, row.beta, max_iters = 5000, tol = 10**(-8), alpha = 0.85))     "
   ]
  },
  {
   "cell_type": "code",
   "execution_count": 4,
   "metadata": {},
   "outputs": [
    {
     "data": {
      "text/plain": [
       "s_1    2.983333\n",
       "s_2    0.150000\n",
       "dtype: float64"
      ]
     },
     "execution_count": 4,
     "metadata": {},
     "output_type": "execute_result"
    }
   ],
   "source": [
    "f(.4, .1, 3, 10, 11, 0.85)"
   ]
  },
  {
   "cell_type": "markdown",
   "metadata": {},
   "source": [
    "So, we'd like to organize this calculation in a nicer fashion. One way to do this will be to build up a data frame, sort on certain features, and then group them appropriately. We'll need iterators for n_1 and beta. We'll also need to allow for multiple solutions..."
   ]
  },
  {
   "cell_type": "markdown",
   "metadata": {},
   "source": [
    "# Compute the space of solutions"
   ]
  },
  {
   "cell_type": "code",
   "execution_count": 5,
   "metadata": {},
   "outputs": [],
   "source": [
    "BETA_GRID = np.linspace(0, 2, 101)\n",
    "n_1   = np.arange(1, 10)\n",
    "s1 = [3, 1.00000001]\n",
    "s2 = [1]\n",
    "\n",
    "n = 8\n",
    "\n",
    "df = pd.DataFrame(list(product(BETA_GRID, n_1, s1, s2)), columns=['beta', 'n_1', 's_1_0', 's_2_0'])\n",
    "\n",
    "\n",
    "df['n'] = n\n",
    "\n",
    "df = pd.concat([df, df.apply(lambda row: g(row), \n",
    "                             axis = 1, \n",
    "                             result_type='expand')], \n",
    "               axis = 1) # compute a bunch of equilibria"
   ]
  },
  {
   "cell_type": "code",
   "execution_count": 6,
   "metadata": {},
   "outputs": [],
   "source": [
    "df = df.sort_values(['beta', 'n_1', 's_1'])\n",
    "df = df[df.s_1.notnull()]\n",
    "df['s_1'] = np.round(df.s_1, 3)\n",
    "df['s_2'] = np.round(df.s_2, 3)\n",
    "# df['s1'] = df[['s_1', 's_2']].max(axis = 1)\n",
    "# df['s2'] = df[['s_1', 's_2']].min(axis = 1)\n",
    "df = df.drop_duplicates(['n_1', 'beta', 's_1', 's_2'])\n",
    "# df = df.drop(['s_1', 's_2', 'rep'], axis = 1)\n",
    "df['group'] = df.groupby(['beta', 'n_1'])['s_1'].rank(method = 'first')\n",
    "\n",
    "# df['group_2'] = np.around((np.abs(df.s1 - df.s2)),1) \n",
    "\n",
    "df = df.drop(['s_1_0', 's_2_0', 'n'], axis = 1)\n",
    "# df['nonegalitarian'] = (np.abs(df.s1 - df.s2) > .01)"
   ]
  },
  {
   "cell_type": "code",
   "execution_count": 7,
   "metadata": {},
   "outputs": [
    {
     "data": {
      "image/png": "[encoded data removed]",
      "text/plain": [
       "<Figure size 432x288 with 1 Axes>"
      ]
     },
     "metadata": {
      "needs_background": "light"
     },
     "output_type": "display_data"
    }
   ],
   "source": [
    "p = df.groupby(['n_1',  'group']).apply(lambda g: plt.plot(g.beta, g.s_1, color = 'lightgrey', zorder = 1))\n",
    "p = df.groupby(['n_1',  'group']).apply(lambda g: plt.plot(g.beta, g.s_2, color = 'lightgrey', zorder = 1))\n",
    "# plt.semilogy()"
   ]
  },
  {
   "cell_type": "markdown",
   "metadata": {},
   "source": [
    "# Stability"
   ]
  },
  {
   "cell_type": "code",
   "execution_count": 28,
   "metadata": {},
   "outputs": [],
   "source": [
    "def numerical_jacobian(n_1, s_1, s_2, n, beta, alpha):\n",
    "    \n",
    "    # lives in n x n space\n",
    "    s = make_s(s_1, s_2, n_1, n)\n",
    "    gamma = compute_gamma(s, beta)\n",
    "    G = np.tile(gamma, (n,1))\n",
    "    \n",
    "    return(-alpha*n*(1/alpha*np.eye(n) - G.T - beta*n*(np.diag(gamma) - np.outer(gamma, gamma))))\n"
   ]
  },
  {
   "cell_type": "code",
   "execution_count": 29,
   "metadata": {},
   "outputs": [],
   "source": [
    "def test_stable_(n_1, s_1, s_2, n, beta, alpha):\n",
    "    '''\n",
    "    '''\n",
    "    J = numerical_jacobian(n_1, s_1, s_2, n, beta, alpha) \n",
    "\n",
    "    eigs = np.linalg.eig(J)\n",
    "    \n",
    "    if eigs[0].max() < 0:\n",
    "        linearly_stable = True\n",
    "    else:\n",
    "        linearly_stable = False\n",
    "    return(linearly_stable)"
   ]
  },
  {
   "cell_type": "code",
   "execution_count": 30,
   "metadata": {},
   "outputs": [],
   "source": [
    "df['stable'] = df.apply(lambda row: test_stable_(row.n_1, row.s_1, row.s_2, n, row.beta, alpha = 0.85), axis = 1)"
   ]
  },
  {
   "cell_type": "code",
   "execution_count": 31,
   "metadata": {},
   "outputs": [
    {
     "data": {
      "image/png": "[encoded data removed]",
      "text/plain": [
       "<Figure size 432x288 with 1 Axes>"
      ]
     },
     "metadata": {
      "needs_background": "light"
     },
     "output_type": "display_data"
    }
   ],
   "source": [
    "colors = ['lightgrey', 'black']\n",
    "p = df.groupby(['n_1','group', 'stable']).apply(lambda g: plt.plot(g.beta, g.s_1, zorder = 1, color = colors[0]))\n",
    "p = df.groupby(['n_1','group', 'stable']).apply(lambda g: plt.plot(g.beta, g.s_2, zorder = 1, color = colors[0]))\n",
    "\n",
    "df_sub = df[df.stable]\n",
    "p = df_sub.groupby(['n_1','group', 'stable']).apply(lambda g: plt.plot(g.beta, g.s_1, zorder = 1, color = colors[1]))\n",
    "p = df_sub.groupby(['n_1', 'group', 'stable']).apply(lambda g: plt.plot(g.beta, g.s_2, zorder = 1, color = colors[1]))"
   ]
  },
  {
   "cell_type": "code",
   "execution_count": 32,
   "metadata": {},
   "outputs": [],
   "source": [
    "df.to_csv('throughput/pagerank_score_curves.csv', index = False)"
   ]
  },
  {
   "cell_type": "code",
   "execution_count": null,
   "metadata": {},
   "outputs": [],
   "source": []
  }
 ],
 "metadata": {
  "kernelspec": {
   "display_name": "Python 3.7.2 64-bit",
   "language": "python",
   "name": "python37264bit9171f975fd2046899614067b4bf98c91"
  },
  "language_info": {
   "codemirror_mode": {
    "name": "ipython",
    "version": 3
   },
   "file_extension": ".py",
   "mimetype": "text/x-python",
   "name": "python",
   "nbconvert_exporter": "python",
   "pygments_lexer": "ipython3",
   "version": "3.7.2"
  }
 },
 "nbformat": 4,
 "nbformat_minor": 4
}
